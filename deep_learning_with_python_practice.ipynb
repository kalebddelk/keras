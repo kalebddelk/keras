{
  "nbformat": 4,
  "nbformat_minor": 0,
  "metadata": {
    "colab": {
      "name": "deep_learning.ipynb",
      "version": "0.3.2",
      "provenance": [],
      "collapsed_sections": [],
      "toc_visible": true,
      "include_colab_link": true
    },
    "kernelspec": {
      "name": "python3",
      "display_name": "Python 3"
    },
    "accelerator": "GPU"
  },
  "cells": [
    {
      "cell_type": "markdown",
      "metadata": {
        "id": "view-in-github",
        "colab_type": "text"
      },
      "source": [
        "<a href=\"https://colab.research.google.com/github/kalebddelk/keras/blob/master/deep_learning_with_python_practice.ipynb\" target=\"_parent\"><img src=\"https://colab.research.google.com/assets/colab-badge.svg\" alt=\"Open In Colab\"/></a>"
      ]
    },
    {
      "cell_type": "markdown",
      "metadata": {
        "id": "tEShvYL_ZkdV",
        "colab_type": "text"
      },
      "source": [
        "# Configuring Deep Learning Workstation"
      ]
    },
    {
      "cell_type": "code",
      "metadata": {
        "id": "q5fCX2dnJGS4",
        "colab_type": "code",
        "colab": {
          "base_uri": "https://localhost:8080/",
          "height": 122
        },
        "outputId": "5d0a1f1b-5dcf-4f1c-8add-33859db41c1a"
      },
      "source": [
        "from google.colab import drive\n",
        "drive.mount('/content/drive/')"
      ],
      "execution_count": 1,
      "outputs": [
        {
          "output_type": "stream",
          "text": [
            "Go to this URL in a browser: https://accounts.google.com/o/oauth2/auth?client_id=947318989803-6bn6qk8qdgf4n4g3pfee6491hc0brc4i.apps.googleusercontent.com&redirect_uri=urn%3Aietf%3Awg%3Aoauth%3A2.0%3Aoob&scope=email%20https%3A%2F%2Fwww.googleapis.com%2Fauth%2Fdocs.test%20https%3A%2F%2Fwww.googleapis.com%2Fauth%2Fdrive%20https%3A%2F%2Fwww.googleapis.com%2Fauth%2Fdrive.photos.readonly%20https%3A%2F%2Fwww.googleapis.com%2Fauth%2Fpeopleapi.readonly&response_type=code\n",
            "\n",
            "Enter your authorization code:\n",
            "··········\n",
            "Mounted at /content/drive/\n"
          ],
          "name": "stdout"
        }
      ]
    },
    {
      "cell_type": "code",
      "metadata": {
        "id": "WhpiSDL6J5Dz",
        "colab_type": "code",
        "colab": {
          "base_uri": "https://localhost:8080/",
          "height": 1000
        },
        "outputId": "0274339a-310f-4ad4-95f6-1d9f96754c01"
      },
      "source": [
        "!ls '/content/drive/My Drive'\n",
        "!pip install -q keras"
      ],
      "execution_count": 2,
      "outputs": [
        {
          "output_type": "stream",
          "text": [
            "'10 pop-bys.gdoc'\n",
            "'12 week plan 4 1 19-6 23 19.gsheet'\n",
            "'12 week plan 7 8 19-9 29 19.gsheet'\n",
            "'12 week plan: Week 10 - 6 3 19 to 6 9 19.gsheet'\n",
            "'12 week plan: Week 11 - 6 10 19 to 6 16 19.gsheet'\n",
            "'12 week plan: Week 12 - 6 24 19 to 6 30 19.gsheet'\n",
            "'12 week plan: Week 1 - 4 1 19 to 4 7 19.gsheet'\n",
            "'12 week plan: Week 2 - 4 8 19 to 4 14 19.gsheet'\n",
            "'12 week plan: Week 3 - 4 15 19 to 4 21 19.gsheet'\n",
            "'12 week plan: Week 4 - 4 22 19 to 4 28 19.gsheet'\n",
            "'12 week plan: Week 5 - 4 29 19 to 5 5 19.gsheet'\n",
            "'12 week plan: Week 6 - 5 6 19 to 5 12 19.gsheet'\n",
            "'12 week plan: Week 7 - 5 13 19 to 5 19 19.gsheet'\n",
            "'12 week plan: Week 8 - 5 20 19 to 5 26 19.gsheet'\n",
            "'12 week plan: Week 9 - 5 27 19 to 6 2 19.gsheet'\n",
            "'12 Week Year Chapter 17 Discussion.gdoc'\n",
            "'2018 Banquet.gsheet'\n",
            " 2019_05_09_08_30_06.pdf\n",
            "'2428 Tillet comps.gdoc'\n",
            "'2br Rentals available Bburg under $800.gdoc'\n",
            "'325 Oak Tree.gsite'\n",
            "'95 Crescent'\n",
            "'Agent Information & Training Form-Southwest.gdoc'\n",
            "'Agent website help.gdoc'\n",
            "'Analysis of Ever Be.gdoc'\n",
            "\"Annette's info.gdoc\"\n",
            "'announcements 06252017.pptx'\n",
            "'Are Committee Spotlight: Dave and Phyllis Rettig.gdoc'\n",
            "'Audition Worksheet.gsheet'\n",
            " Bio.gdoc\n",
            "'Blacksburg Agent Contact List.gsheet'\n",
            "\"Bobby Horn's racquetball warmup.gdoc\"\n",
            "'Buffalo Electric scope of work 95 Crescent.gdoc'\n",
            "'Buyer info.gdoc'\n",
            "'Calculated Value of Your Paper Savings Bond(s).pdf'\n",
            "'Charlotte information.gdoc'\n",
            "'Clayton Merry.gdoc'\n",
            "'Colab Notebooks'\n",
            "'Collaborative song list.gdoc'\n",
            "'computer hardware.gdoc'\n",
            "'Confirmation Number.gdoc'\n",
            "'Contract package to sign 5443 Lovell.pdf'\n",
            "'Copelands showings worksheet.gdoc'\n",
            "'Copy of Contract package to sign 5443 Lovell.pdf'\n",
            "'Cortellesi information.gdoc'\n",
            "'credit reports'\n",
            "'Darius Blevins.gdoc'\n",
            "'Day planner.gdoc'\n",
            "'D&D'\n",
            "'D&D.gdoc'\n",
            "'Diana Lambert.gdoc'\n",
            "'Digno y Santo.gdoc'\n",
            "'Discussion Questions 2-16-19.gdoc'\n",
            "'Discussion Questions for Entrepreneur Round Table 6 30.gdoc'\n",
            "'Display Receipt (108).pdf'\n",
            "'Documents Backed up 1 9 19'\n",
            "'Effective Ministry Action Plans.pdf'\n",
            "'Equifax Online Dispute.pdf'\n",
            "'EveryDollar (1).pdf'\n",
            "'EveryDollar (2).pdf'\n",
            " EveryDollar.pdf\n",
            "'Expenses 2017.csv'\n",
            "'Expenses 2017.gsheet'\n",
            "'FANNIE MAE - CONTRACT INSTRUCTIONS - 05-23-2017.pdf'\n",
            "'Feb. 25 service.gdoc'\n",
            "'Giveaway 2!.gform'\n",
            "'Giveaway 3!.gform'\n",
            " Giveaway.gform\n",
            "'Giveaway information.gdoc'\n",
            "'Giveaway (Responses).gsheet'\n",
            "'Guitar Lessons.gsheet'\n",
            " Hannah.gdoc\n",
            " IMG_0779.mp4\n",
            " IMG_3048.JPG\n",
            " IMG_3049.JPG\n",
            " IMG_3051.JPG\n",
            " IMG_3053.JPG\n",
            " IMG_3054.JPG\n",
            " IMG_3057.JPG\n",
            " IMG_3058.JPG\n",
            " IMG_3060.JPG\n",
            " IMG_3064.JPG\n",
            " IMG_3065.JPG\n",
            " IMG_3066.JPG\n",
            " IMG_3067.JPG\n",
            " IMG_3068.JPG\n",
            " IMG_3069.JPG\n",
            " IMG_3070.JPG\n",
            " IMG_3071.JPG\n",
            " IMG_3073.JPG\n",
            " IMG_3074.JPG\n",
            " IMG_3099.JPG\n",
            " IMG_3130.JPG\n",
            " IMG_3133.JPG\n",
            "'IMG_3134 2 (1).JPG'\n",
            "'IMG_3134 2.JPG'\n",
            " IMG_3136.JPG\n",
            " IMG_3137.JPG\n",
            " IMG_3138.JPG\n",
            " IMG_3139.JPG\n",
            " IMG_3140.JPG\n",
            " IMG_3141.JPG\n",
            " IMG_3142.JPG\n",
            " IMG_3143.JPG\n",
            " IMG_3144.JPG\n",
            " IMG_3145.JPG\n",
            " IMG_3146.JPG\n",
            " IMG_3147.JPG\n",
            " IMG_3148.JPG\n",
            " IMG_3149.JPG\n",
            " IMG_3150.JPG\n",
            " IMG_3151.JPG\n",
            " IMG_3152.JPG\n",
            " IMG_3153.JPG\n",
            " IMG_3154.JPG\n",
            " IMG_3155.JPG\n",
            " IMG_3156.JPG\n",
            " IMG_3158.JPG\n",
            " IMG_3174.JPG\n",
            "'insurance quotes 05 2018'\n",
            "'Justin and Abigail.gdoc'\n",
            "'Leader needs.gform'\n",
            "'LEE MIS.xlsx.gsheet'\n",
            "'Lesson Plan Romans 2.gdoc'\n",
            "'Life Group 04 09 Lesson plan.gdoc'\n",
            "'Life Group 04 23 Lesson plan.gdoc'\n",
            "'Life group lesson 4 8 19.gdoc'\n",
            "'Lisa Adkins.gdoc'\n",
            " Lolo\n",
            "'lupine ln info.gdoc'\n",
            "'Mariner service history + others 2 17.gdoc'\n",
            "'Martin acoustic 6-6.gdoc'\n",
            "'Matt Housman.gdoc'\n",
            "'Miscellaneous income 2018.gsheet'\n",
            "'Misc Thumb Drive'\n",
            "'Music expert.gdoc'\n",
            "'Narrows team interview responses.gsheet'\n",
            "'Natalia showing.gdoc'\n",
            "'Navient | All Loan Details.pdf'\n",
            "'New clients?.gdoc'\n",
            "'New lead.gdoc'\n",
            "'note tracking.gsheet'\n",
            "'NT Wright Session 4 discussion notes.gdoc'\n",
            "'Office phone list.gsheet'\n",
            "'Oscar notes 2018.gdoc'\n",
            "'phone pics for warranty claim'\n",
            "'Planning website.gsite'\n",
            "'Planning worksheet 3-25-19.gsheet'\n",
            "'Private Teaching Stenger'\n",
            "'private tutoring'\n",
            "'Productivity and emotional log.gdoc'\n",
            "'Project proposal.gdoc'\n",
            "'Racquetball Rankings.xlsx.gsheet'\n",
            "'Real Estate'\n",
            "'Real estate resume.gdoc'\n",
            "'River Music Team goals 2017 Ross Comments (1).docx.gdoc'\n",
            "'River Music Team goals 2017 Ross Comments.docx'\n",
            "'River Music Team goals 2017 Ross Comments.docx.gdoc'\n",
            " scottclosinggift.jpg\n",
            "'service 06252017.pdf'\n",
            "'Set for Sunday 10 6.gdoc'\n",
            "'Sharon Yoder.gdoc'\n",
            "'social media designation announcement mockup.gdoc'\n",
            "'Sold properties.gsheet'\n",
            "'Sold Properties Template.gsheet'\n",
            " StrengthsProfile-Kaleb-Deln.pdf\n",
            "'Team feedback Q3 2017.gform'\n",
            " Template.gsheet\n",
            "'To-do list.gsheet'\n",
            "'TRAC Musical Worship Feedback.gform'\n",
            "'Tx management CY 2016.gsheet'\n",
            "'Tx management CY 2017.gsheet'\n",
            "'Tx management CY 2018.gsheet'\n",
            "'Tx management CY 2019.gsheet'\n",
            "'Tx Management PY 2016-2017.gsheet'\n",
            "'Tx management PY 2017-2018.gsheet'\n",
            "'Tx management PY 2018-2019.gsheet'\n",
            "'TX Management Template.gsheet'\n",
            "'Understanding Pitch for Worship - A Primer.gdoc'\n",
            "'Untitled document (10).gdoc'\n",
            "'Untitled document (11).gdoc'\n",
            "'Untitled document (12).gdoc'\n",
            "'Untitled document (13).gdoc'\n",
            "'Untitled document (14).gdoc'\n",
            "'Untitled document (15).gdoc'\n",
            "'Untitled document (16).gdoc'\n",
            "'Untitled document (17).gdoc'\n",
            "'Untitled document (18).gdoc'\n",
            "'Untitled document (19).gdoc'\n",
            "'Untitled document (1).gdoc'\n",
            "'Untitled document (20).gdoc'\n",
            "'Untitled document (21).gdoc'\n",
            "'Untitled document (22).gdoc'\n",
            "'Untitled document (2).gdoc'\n",
            "'Untitled document (3).gdoc'\n",
            "'Untitled document (4).gdoc'\n",
            "'Untitled document (5).gdoc'\n",
            "'Untitled document (6).gdoc'\n",
            "'Untitled document (7).gdoc'\n",
            "'Untitled document (8).gdoc'\n",
            "'Untitled document (9).gdoc'\n",
            "'Untitled document.gdoc'\n",
            "'Untitled presentation.gslides'\n",
            "'Untitled Site.gsite'\n",
            "'Work notes.gdoc'\n",
            "'worship music 04 12.gdoc'\n",
            "'worship music 04 20.gdoc'\n",
            "'Worship practice outline.gdoc'\n",
            "'Worship Service Schedule Logistics.gsheet'\n",
            "'Worship Team feedback Q4 2018.gform'\n",
            "'Worship Team feedback Q4 2018 (Responses).gsheet'\n",
            "'Wosrhip notes.gdoc'\n",
            "'WPT goals worksheet - Planning and Service.gdoc'\n",
            "'WPT group meeting 4 26 19.gdoc'\n",
            "'WPT workshop 10 3.gdoc'\n",
            "'Xavier Epperly 540-676-5714.gdoc'\n",
            "'YL Newsletter Interview - AC.gform'\n",
            "'YL Newsletter Interview - Leader.gform'\n",
            "'YL Newsletter Interview - Team.gform'\n",
            "'YL NRV Area Committee Covenant.pdf'\n",
            " YoungLife\n"
          ],
          "name": "stdout"
        }
      ]
    },
    {
      "cell_type": "code",
      "metadata": {
        "id": "goja_51sKNll",
        "colab_type": "code",
        "colab": {
          "base_uri": "https://localhost:8080/",
          "height": 34
        },
        "outputId": "2076a96d-d0c5-4bc4-9b46-fc461a78a2a5"
      },
      "source": [
        "from __future__ import print_function\n",
        "import keras\n",
        "from keras.datasets import mnist\n",
        "from keras.models import Sequential\n",
        "from keras.layers import Dense, Dropout, Flatten\n",
        "from keras.layers import Conv2D, MaxPooling2D\n",
        "from keras import backend as K\n",
        "\n",
        "batch_size = 128\n",
        "num_classes = 10\n",
        "epochs = 12"
      ],
      "execution_count": 3,
      "outputs": [
        {
          "output_type": "stream",
          "text": [
            "Using TensorFlow backend.\n"
          ],
          "name": "stderr"
        }
      ]
    },
    {
      "cell_type": "code",
      "metadata": {
        "id": "dqm47T-yTUx7",
        "colab_type": "code",
        "colab": {}
      },
      "source": [
        "from keras import models\n",
        "from keras import layers\n",
        "model = models.Sequential()\n",
        "model.add(layers.Dense(32, activation='relu', input_shape=(784,)))\n",
        "model.add(layers.Dense(10, activation='softmax'))"
      ],
      "execution_count": 0,
      "outputs": []
    },
    {
      "cell_type": "code",
      "metadata": {
        "id": "wJGxRH8ST2Zg",
        "colab_type": "code",
        "colab": {}
      },
      "source": [
        "from keras import optimizers\n",
        "\n",
        "model.compile(optimizer=optimizers.RMSprop(lr=0.001),\n",
        "             loss='mse',\n",
        "             metrics=['accuracy'])"
      ],
      "execution_count": 0,
      "outputs": []
    },
    {
      "cell_type": "markdown",
      "metadata": {
        "id": "lehqwy9GVEoa",
        "colab_type": "text"
      },
      "source": [
        "# Classifying Movie Reviews:"
      ]
    },
    {
      "cell_type": "code",
      "metadata": {
        "id": "C0eQiumWVOJJ",
        "colab_type": "code",
        "colab": {}
      },
      "source": [
        "# get database of reviews\n",
        "from keras.datasets import imdb"
      ],
      "execution_count": 0,
      "outputs": []
    },
    {
      "cell_type": "code",
      "metadata": {
        "id": "yEzT-eHWVk7l",
        "colab_type": "code",
        "colab": {
          "base_uri": "https://localhost:8080/",
          "height": 51
        },
        "outputId": "1aa6d371-2132-47cb-c5ab-b1c623432f39"
      },
      "source": [
        "import numpy as np\n",
        "# save np.load\n",
        "np_load_old = np.load\n",
        "\n",
        "#modify the default parameters of np.load\n",
        "np.load = lambda *a,**k: np_load_old(*a, allow_pickle=True, **k)\n",
        "\n",
        "#call load_data with allow_pickle implicitly set to true\n",
        "(train_data, train_labels), (test_data, test_labels) = imdb.load_data(\n",
        "    num_words=10000)"
      ],
      "execution_count": 6,
      "outputs": [
        {
          "output_type": "stream",
          "text": [
            "Downloading data from https://s3.amazonaws.com/text-datasets/imdb.npz\n",
            "17465344/17464789 [==============================] - 2s 0us/step\n"
          ],
          "name": "stdout"
        }
      ]
    },
    {
      "cell_type": "code",
      "metadata": {
        "id": "bQ_eG_KyXCi7",
        "colab_type": "code",
        "colab": {}
      },
      "source": [
        "#restore np.load for future normal usage\n",
        "np.load = np_load_old"
      ],
      "execution_count": 0,
      "outputs": []
    },
    {
      "cell_type": "markdown",
      "metadata": {
        "id": "BvRkWdJ1Xw6M",
        "colab_type": "text"
      },
      "source": [
        "\n",
        "\n",
        "---\n",
        "\n",
        "*Encode the integer sequences into a binary matrix*\n",
        "\n",
        "\n"
      ]
    },
    {
      "cell_type": "code",
      "metadata": {
        "id": "RoxMYiEGXNk3",
        "colab_type": "code",
        "colab": {}
      },
      "source": [
        "def vectorize_sequences(sequences, dimension=10000):\n",
        "  # creates an all-zero matrix of shape (len(sequences), dimension)\n",
        "  results = np.zeros((len(sequences), dimension))\n",
        "  for i, sequence in enumerate(sequences):\n",
        "    # sets specific indices of results[i] to 1's\n",
        "    results[i, sequence] = 1.\n",
        "  return results"
      ],
      "execution_count": 0,
      "outputs": []
    },
    {
      "cell_type": "code",
      "metadata": {
        "id": "RIuF-z7RYvui",
        "colab_type": "code",
        "colab": {}
      },
      "source": [
        "x_train = vectorize_sequences(train_data)\n",
        "x_test = vectorize_sequences(test_data)"
      ],
      "execution_count": 0,
      "outputs": []
    },
    {
      "cell_type": "code",
      "metadata": {
        "id": "L9CvBuCzY6Tu",
        "colab_type": "code",
        "outputId": "55069e09-8c84-4cd7-a6d8-89df5bf621dc",
        "colab": {
          "base_uri": "https://localhost:8080/",
          "height": 34
        }
      },
      "source": [
        "# what samples look like now\n",
        " x_train[0]"
      ],
      "execution_count": 0,
      "outputs": [
        {
          "output_type": "execute_result",
          "data": {
            "text/plain": [
              "array([0., 1., 1., ..., 0., 0., 0.])"
            ]
          },
          "metadata": {
            "tags": []
          },
          "execution_count": 26
        }
      ]
    },
    {
      "cell_type": "markdown",
      "metadata": {
        "id": "WQk21sVkZGWX",
        "colab_type": "text"
      },
      "source": [
        "---\n",
        "*vectorize labels, too*\n",
        "\n",
        "\n",
        "\n"
      ]
    },
    {
      "cell_type": "code",
      "metadata": {
        "id": "GcG_RmwAZKJJ",
        "colab_type": "code",
        "colab": {}
      },
      "source": [
        "y_train = np.asarray(train_labels).astype('float32')\n",
        "y_test = np.asarray(test_labels).astype('float32')"
      ],
      "execution_count": 0,
      "outputs": []
    },
    {
      "cell_type": "markdown",
      "metadata": {
        "id": "KNytESzgZZpA",
        "colab_type": "text"
      },
      "source": [
        "**Build the Network**"
      ]
    },
    {
      "cell_type": "markdown",
      "metadata": {
        "id": "UDYf5APucUPy",
        "colab_type": "text"
      },
      "source": [
        "\n",
        "\n",
        "*   Two intermediate layers with 16 units each\n",
        "*   A third layer that will output the scalar prediction regarding the sentiment of the current review\n",
        "\n"
      ]
    },
    {
      "cell_type": "code",
      "metadata": {
        "id": "U0M54Dp_ZdgQ",
        "colab_type": "code",
        "colab": {
          "base_uri": "https://localhost:8080/",
          "height": 156
        },
        "outputId": "9b1bfa1b-0919-44f0-d85c-9bcc175695aa"
      },
      "source": [
        "#reset the modules\n",
        "from keras import models\n",
        "from keras import layers\n",
        "\n",
        "# relu is \"rectified linear unit\". It zero's out negative values\n",
        "# sigmoid squashes arbitrary values into the [0, 1] interval\n",
        "model = models.Sequential()\n",
        "model.add(layers.Dense(16, activation='relu', input_shape=(10000,)))\n",
        "model.add(layers.Dense(16, activation='relu'))\n",
        "model.add(layers.Dense(1, activation='sigmoid'))"
      ],
      "execution_count": 10,
      "outputs": [
        {
          "output_type": "stream",
          "text": [
            "WARNING: Logging before flag parsing goes to stderr.\n",
            "W0807 16:21:20.820437 140248176170880 deprecation_wrapper.py:119] From /usr/local/lib/python3.6/dist-packages/keras/backend/tensorflow_backend.py:74: The name tf.get_default_graph is deprecated. Please use tf.compat.v1.get_default_graph instead.\n",
            "\n",
            "W0807 16:21:20.865542 140248176170880 deprecation_wrapper.py:119] From /usr/local/lib/python3.6/dist-packages/keras/backend/tensorflow_backend.py:517: The name tf.placeholder is deprecated. Please use tf.compat.v1.placeholder instead.\n",
            "\n",
            "W0807 16:21:20.891584 140248176170880 deprecation_wrapper.py:119] From /usr/local/lib/python3.6/dist-packages/keras/backend/tensorflow_backend.py:4138: The name tf.random_uniform is deprecated. Please use tf.random.uniform instead.\n",
            "\n"
          ],
          "name": "stderr"
        }
      ]
    },
    {
      "cell_type": "markdown",
      "metadata": {
        "id": "JasrS445c-Us",
        "colab_type": "text"
      },
      "source": [
        "*Add loss function and optimizer*"
      ]
    },
    {
      "cell_type": "code",
      "metadata": {
        "id": "8Y6MqGaDdApu",
        "colab_type": "code",
        "colab": {}
      },
      "source": [
        "model.compile(optimizer='rmsprop',\n",
        "             loss='binary_crossentropy',\n",
        "             metrics=['accuracy'])"
      ],
      "execution_count": 0,
      "outputs": []
    },
    {
      "cell_type": "markdown",
      "metadata": {
        "id": "VSIe2BfCdtxd",
        "colab_type": "text"
      },
      "source": [
        "*Create validation set by setting apart 10,000 samples from the original training data*"
      ]
    },
    {
      "cell_type": "code",
      "metadata": {
        "id": "feaMfhRfdz9j",
        "colab_type": "code",
        "colab": {}
      },
      "source": [
        "x_val = x_train[:10000]\n",
        "partial_x_train = x_train[10000:]\n",
        "y_val = y_train[:10000]\n",
        "partial_y_train = y_train[10000:]"
      ],
      "execution_count": 0,
      "outputs": []
    },
    {
      "cell_type": "markdown",
      "metadata": {
        "id": "n77apinpeIKV",
        "colab_type": "text"
      },
      "source": [
        "**Train the model**"
      ]
    },
    {
      "cell_type": "code",
      "metadata": {
        "id": "gouS8cRneKEW",
        "colab_type": "code",
        "outputId": "d0716a0a-4a36-4a61-f0a8-bb4d997c3b0b",
        "colab": {
          "base_uri": "https://localhost:8080/",
          "height": 768
        }
      },
      "source": [
        "history = model.fit(partial_x_train,\n",
        "                   partial_y_train,\n",
        "                   epochs=20,\n",
        "                   batch_size=512,\n",
        "                   validation_data=(x_val, y_val))"
      ],
      "execution_count": 0,
      "outputs": [
        {
          "output_type": "stream",
          "text": [
            "W0717 15:08:04.109589 139677700343680 deprecation_wrapper.py:119] From /usr/local/lib/python3.6/dist-packages/keras/backend/tensorflow_backend.py:986: The name tf.assign_add is deprecated. Please use tf.compat.v1.assign_add instead.\n",
            "\n"
          ],
          "name": "stderr"
        },
        {
          "output_type": "stream",
          "text": [
            "Train on 15000 samples, validate on 10000 samples\n",
            "Epoch 1/20\n",
            "15000/15000 [==============================] - 5s 354us/step - loss: 0.5084 - acc: 0.7813 - val_loss: 0.3797 - val_acc: 0.8684\n",
            "Epoch 2/20\n",
            "15000/15000 [==============================] - 1s 95us/step - loss: 0.3004 - acc: 0.9047 - val_loss: 0.3004 - val_acc: 0.8897\n",
            "Epoch 3/20\n",
            "15000/15000 [==============================] - 1s 92us/step - loss: 0.2179 - acc: 0.9285 - val_loss: 0.3085 - val_acc: 0.8711\n",
            "Epoch 4/20\n",
            "15000/15000 [==============================] - 1s 94us/step - loss: 0.1750 - acc: 0.9437 - val_loss: 0.2840 - val_acc: 0.8832\n",
            "Epoch 5/20\n",
            "15000/15000 [==============================] - 1s 90us/step - loss: 0.1427 - acc: 0.9543 - val_loss: 0.2841 - val_acc: 0.8872\n",
            "Epoch 6/20\n",
            "15000/15000 [==============================] - 1s 90us/step - loss: 0.1150 - acc: 0.9650 - val_loss: 0.3166 - val_acc: 0.8772\n",
            "Epoch 7/20\n",
            "15000/15000 [==============================] - 1s 89us/step - loss: 0.0980 - acc: 0.9705 - val_loss: 0.3127 - val_acc: 0.8846\n",
            "Epoch 8/20\n",
            "15000/15000 [==============================] - 1s 89us/step - loss: 0.0807 - acc: 0.9763 - val_loss: 0.3859 - val_acc: 0.8649\n",
            "Epoch 9/20\n",
            "15000/15000 [==============================] - 1s 89us/step - loss: 0.0661 - acc: 0.9821 - val_loss: 0.3635 - val_acc: 0.8782\n",
            "Epoch 10/20\n",
            "15000/15000 [==============================] - 1s 90us/step - loss: 0.0561 - acc: 0.9853 - val_loss: 0.3843 - val_acc: 0.8792\n",
            "Epoch 11/20\n",
            "15000/15000 [==============================] - 1s 89us/step - loss: 0.0439 - acc: 0.9893 - val_loss: 0.4153 - val_acc: 0.8779\n",
            "Epoch 12/20\n",
            "15000/15000 [==============================] - 1s 88us/step - loss: 0.0381 - acc: 0.9921 - val_loss: 0.4525 - val_acc: 0.8690\n",
            "Epoch 13/20\n",
            "15000/15000 [==============================] - 1s 88us/step - loss: 0.0300 - acc: 0.9928 - val_loss: 0.4699 - val_acc: 0.8729\n",
            "Epoch 14/20\n",
            "15000/15000 [==============================] - 1s 88us/step - loss: 0.0247 - acc: 0.9945 - val_loss: 0.5023 - val_acc: 0.8726\n",
            "Epoch 15/20\n",
            "15000/15000 [==============================] - 1s 90us/step - loss: 0.0175 - acc: 0.9979 - val_loss: 0.5341 - val_acc: 0.8693\n",
            "Epoch 16/20\n",
            "15000/15000 [==============================] - 1s 88us/step - loss: 0.0149 - acc: 0.9983 - val_loss: 0.5710 - val_acc: 0.8698\n",
            "Epoch 17/20\n",
            "15000/15000 [==============================] - 1s 90us/step - loss: 0.0151 - acc: 0.9971 - val_loss: 0.6025 - val_acc: 0.8697\n",
            "Epoch 18/20\n",
            "15000/15000 [==============================] - 1s 91us/step - loss: 0.0075 - acc: 0.9996 - val_loss: 0.6787 - val_acc: 0.8632\n",
            "Epoch 19/20\n",
            "15000/15000 [==============================] - 1s 89us/step - loss: 0.0117 - acc: 0.9974 - val_loss: 0.6695 - val_acc: 0.8677\n",
            "Epoch 20/20\n",
            "15000/15000 [==============================] - 1s 89us/step - loss: 0.0041 - acc: 0.9999 - val_loss: 0.6935 - val_acc: 0.8655\n"
          ],
          "name": "stdout"
        }
      ]
    },
    {
      "cell_type": "code",
      "metadata": {
        "id": "LALjrXPUepWP",
        "colab_type": "code",
        "outputId": "cdc5368a-b0b3-4cf0-925f-f435781964f2",
        "colab": {
          "base_uri": "https://localhost:8080/",
          "height": 34
        }
      },
      "source": [
        "# metrics stored in history object\n",
        " history_dict = history.history\n",
        " history_dict.keys()"
      ],
      "execution_count": 17,
      "outputs": [
        {
          "output_type": "execute_result",
          "data": {
            "text/plain": [
              "dict_keys(['val_loss', 'val_acc', 'loss', 'acc'])"
            ]
          },
          "metadata": {
            "tags": []
          },
          "execution_count": 17
        }
      ]
    },
    {
      "cell_type": "markdown",
      "metadata": {
        "id": "GRjQnIg0fP0F",
        "colab_type": "text"
      },
      "source": [
        "*Plot the training and validation loss*"
      ]
    },
    {
      "cell_type": "code",
      "metadata": {
        "id": "w7WIhnBUfPFG",
        "colab_type": "code",
        "outputId": "0765948a-635f-421b-ed9f-b8db0d5e6925",
        "colab": {
          "base_uri": "https://localhost:8080/",
          "height": 295
        }
      },
      "source": [
        "import matplotlib.pyplot as plt\n",
        "\n",
        "loss_values = history_dict['loss']\n",
        "val_loss_values = history_dict['val_loss']\n",
        "\n",
        "epochs = range(1, len(loss_values) + 1)\n",
        "\n",
        "# 'bo' is for 'blue dot', 'b' is for 'solid blue line'\n",
        "plt.plot(epochs, loss_values, 'bo', label='Training loss')\n",
        "plt.plot(epochs, val_loss_values, 'b', label='Validation loss')\n",
        "plt.title('Training and Validation loss')\n",
        "plt.xlabel('Epochs')\n",
        "plt.ylabel('Loss')\n",
        "plt.legend()\n",
        "\n",
        "plt.show()\n"
      ],
      "execution_count": 0,
      "outputs": [
        {
          "output_type": "display_data",
          "data": {
            "image/png": "[encoded data removed]",
            "text/plain": [
              "<Figure size 432x288 with 1 Axes>"
            ]
          },
          "metadata": {
            "tags": []
          }
        }
      ]
    },
    {
      "cell_type": "markdown",
      "metadata": {
        "id": "MyIlbCy6gdKx",
        "colab_type": "text"
      },
      "source": [
        "*Plot training and validation accuracy*"
      ]
    },
    {
      "cell_type": "code",
      "metadata": {
        "id": "oJMUQwGngg6i",
        "colab_type": "code",
        "outputId": "caae2bc8-e710-4997-de56-416685426258",
        "colab": {
          "base_uri": "https://localhost:8080/",
          "height": 295
        }
      },
      "source": [
        "# clears figure\n",
        "plt.clf()\n",
        "acc_values = history_dict['acc']\n",
        "val_acc_values = history_dict['val_acc']\n",
        "\n",
        "plt.plot(epochs, acc_values, 'bo', label='Training acc')\n",
        "plt.plot(epochs, val_acc_values, 'b', label='Validation acc')\n",
        "plt.title('Training and validation accuracy')\n",
        "plt.xlabel('Epochs')\n",
        "plt.ylabel('Accuracy')\n",
        "plt.legend()\n",
        "\n",
        "plt.show()\n"
      ],
      "execution_count": 0,
      "outputs": [
        {
          "output_type": "display_data",
          "data": {
            "image/png": "[encoded data removed]",
            "text/plain": [
              "<Figure size 432x288 with 1 Axes>"
            ]
          },
          "metadata": {
            "tags": []
          }
        }
      ]
    },
    {
      "cell_type": "markdown",
      "metadata": {
        "id": "k1rqxmfxjbPY",
        "colab_type": "text"
      },
      "source": [
        "\n",
        "\n",
        "> This model is *overfitted*, meaning that it is overoptimized on the training data and doesn't generalize well outside of the training set\n",
        "\n",
        "\n",
        "---\n",
        "\n",
        "**Retrain model from scratch**\n",
        "\n"
      ]
    },
    {
      "cell_type": "code",
      "metadata": {
        "id": "V_akyYl-jyh8",
        "colab_type": "code",
        "outputId": "82850671-de72-4960-82ee-823aa25f50d2",
        "colab": {
          "base_uri": "https://localhost:8080/",
          "height": 170
        }
      },
      "source": [
        "model = models.Sequential()\n",
        "model.add(layers.Dense(16, activation='relu', input_shape=(10000,)))\n",
        "model.add(layers.Dense(16, activation='relu'))\n",
        "model.add(layers.Dense(1, activation='sigmoid'))\n",
        "\n",
        "model.compile(optimizer='rmsprop',\n",
        "             loss='binary_crossentropy',\n",
        "              metrics=['accuracy'])\n",
        "\n",
        "model.fit(x_train, y_train, epochs=4, batch_size=512)\n",
        "results = model.evaluate(x_test, y_test)"
      ],
      "execution_count": 0,
      "outputs": [
        {
          "output_type": "stream",
          "text": [
            "Epoch 1/4\n",
            "25000/25000 [==============================] - 2s 76us/step - loss: 0.4749 - acc: 0.8217\n",
            "Epoch 2/4\n",
            "25000/25000 [==============================] - 2s 61us/step - loss: 0.2666 - acc: 0.9096\n",
            "Epoch 3/4\n",
            "25000/25000 [==============================] - 1s 57us/step - loss: 0.1987 - acc: 0.9292\n",
            "Epoch 4/4\n",
            "25000/25000 [==============================] - 1s 57us/step - loss: 0.1679 - acc: 0.9402\n",
            "25000/25000 [==============================] - 2s 81us/step\n"
          ],
          "name": "stdout"
        }
      ]
    },
    {
      "cell_type": "markdown",
      "metadata": {
        "id": "zapvZJRWkuB1",
        "colab_type": "text"
      },
      "source": [
        "performs at 87% on the test set"
      ]
    },
    {
      "cell_type": "code",
      "metadata": {
        "id": "upAy8ey_kl5U",
        "colab_type": "code",
        "outputId": "b7bf6649-8ad1-456f-a8c2-6446bbade91e",
        "colab": {
          "base_uri": "https://localhost:8080/",
          "height": 34
        }
      },
      "source": [
        "results"
      ],
      "execution_count": 0,
      "outputs": [
        {
          "output_type": "execute_result",
          "data": {
            "text/plain": [
              "[0.3238562035751343, 0.87308]"
            ]
          },
          "metadata": {
            "tags": []
          },
          "execution_count": 47
        }
      ]
    },
    {
      "cell_type": "markdown",
      "metadata": {
        "id": "Y-7u_VTRksfh",
        "colab_type": "text"
      },
      "source": [
        "**Use trained network to generate prediction on new data**"
      ]
    },
    {
      "cell_type": "code",
      "metadata": {
        "id": "XAWeK2hllQ9M",
        "colab_type": "code",
        "outputId": "7d52b3f9-726c-45f2-d2d1-201f189f84bb",
        "colab": {
          "base_uri": "https://localhost:8080/",
          "height": 136
        }
      },
      "source": [
        "model.predict(x_test)"
      ],
      "execution_count": 0,
      "outputs": [
        {
          "output_type": "execute_result",
          "data": {
            "text/plain": [
              "array([[0.13560072],\n",
              "       [0.99971175],\n",
              "       [0.27816382],\n",
              "       ...,\n",
              "       [0.07139969],\n",
              "       [0.04283795],\n",
              "       [0.4738391 ]], dtype=float32)"
            ]
          },
          "metadata": {
            "tags": []
          },
          "execution_count": 48
        }
      ]
    },
    {
      "cell_type": "markdown",
      "metadata": {
        "id": "AUF6TZwHl3iS",
        "colab_type": "text"
      },
      "source": [
        "\n",
        "\n",
        "> Very confident on some samples (>.9 or <.1), but weaker on others\n",
        "\n"
      ]
    },
    {
      "cell_type": "markdown",
      "metadata": {
        "id": "D88sutAuBlO4",
        "colab_type": "text"
      },
      "source": [
        "**Further experiments**\n",
        "\n",
        "\n",
        "*One hidden layer*\n",
        "\n"
      ]
    },
    {
      "cell_type": "code",
      "metadata": {
        "id": "r0gq3VxoB9nL",
        "colab_type": "code",
        "outputId": "fb2086e6-3cbe-4eae-93ac-0ee363c736e9",
        "colab": {
          "base_uri": "https://localhost:8080/",
          "height": 170
        }
      },
      "source": [
        "model = models.Sequential()\n",
        "model.add(layers.Dense(16, activation='relu', input_shape=(10000,)))\n",
        "model.add(layers.Dense(1, activation='sigmoid'))\n",
        "\n",
        "model.compile(optimizer='rmsprop',\n",
        "             loss='binary_crossentropy',\n",
        "             metrics=['accuracy'])\n",
        "\n",
        "model.fit(x_train, y_train, epochs=4, batch_size=512)\n",
        "results = model.evaluate(x_test, y_test)"
      ],
      "execution_count": 0,
      "outputs": [
        {
          "output_type": "stream",
          "text": [
            "Epoch 1/4\n",
            "25000/25000 [==============================] - 2s 74us/step - loss: 0.4477 - acc: 0.8325\n",
            "Epoch 2/4\n",
            "25000/25000 [==============================] - 2s 62us/step - loss: 0.2797 - acc: 0.9077\n",
            "Epoch 3/4\n",
            "25000/25000 [==============================] - 1s 58us/step - loss: 0.2214 - acc: 0.9244\n",
            "Epoch 4/4\n",
            "25000/25000 [==============================] - 1s 58us/step - loss: 0.1878 - acc: 0.9354\n",
            "25000/25000 [==============================] - 2s 87us/step\n"
          ],
          "name": "stdout"
        }
      ]
    },
    {
      "cell_type": "code",
      "metadata": {
        "id": "dp6o1BAwC4Hb",
        "colab_type": "code",
        "outputId": "0aee5a1c-9767-4f79-ac22-b5ec55ede0af",
        "colab": {
          "base_uri": "https://localhost:8080/",
          "height": 153
        }
      },
      "source": [
        "print(results)\n",
        "\n",
        "print(model.predict(x_test))"
      ],
      "execution_count": 0,
      "outputs": [
        {
          "output_type": "stream",
          "text": [
            "[0.27894223413467406, 0.8888]\n",
            "[[0.26176482]\n",
            " [0.999821  ]\n",
            " [0.8291658 ]\n",
            " ...\n",
            " [0.13974896]\n",
            " [0.11718065]\n",
            " [0.48576462]]\n"
          ],
          "name": "stdout"
        }
      ]
    },
    {
      "cell_type": "markdown",
      "metadata": {
        "id": "3akqV73eDOjP",
        "colab_type": "text"
      },
      "source": [
        "*Three hidden layers*"
      ]
    },
    {
      "cell_type": "code",
      "metadata": {
        "id": "kSs69rZJDQ86",
        "colab_type": "code",
        "outputId": "fdb688cb-c3d0-43e7-f428-46b2ef896fb2",
        "colab": {
          "base_uri": "https://localhost:8080/",
          "height": 170
        }
      },
      "source": [
        "model = models.Sequential()\n",
        "model.add(layers.Dense(16, activation='relu', input_shape=(10000,)))\n",
        "model.add(layers.Dense(16, activation='relu'))\n",
        "model.add(layers.Dense(16, activation='relu'))\n",
        "model.add(layers.Dense(1, activation='sigmoid'))\n",
        "\n",
        "model.compile(optimizer='rmsprop',\n",
        "             loss='binary_crossentropy',\n",
        "             metrics=['accuracy'])\n",
        "\n",
        "model.fit(x_train, y_train, epochs=4, batch_size=512)\n",
        "results= model.evaluate(x_test, y_test)"
      ],
      "execution_count": 0,
      "outputs": [
        {
          "output_type": "stream",
          "text": [
            "Epoch 1/4\n",
            "25000/25000 [==============================] - 2s 84us/step - loss: 0.4602 - acc: 0.8176\n",
            "Epoch 2/4\n",
            "25000/25000 [==============================] - 2s 64us/step - loss: 0.2505 - acc: 0.9106\n",
            "Epoch 3/4\n",
            "25000/25000 [==============================] - 1s 60us/step - loss: 0.2010 - acc: 0.9260\n",
            "Epoch 4/4\n",
            "25000/25000 [==============================] - 2s 60us/step - loss: 0.1652 - acc: 0.9406\n",
            "25000/25000 [==============================] - 2s 90us/step\n"
          ],
          "name": "stdout"
        }
      ]
    },
    {
      "cell_type": "code",
      "metadata": {
        "id": "fcJoPHQ1HBZW",
        "colab_type": "code",
        "outputId": "a25197b3-0dbc-48a3-e8a8-af7c812bed89",
        "colab": {
          "base_uri": "https://localhost:8080/",
          "height": 153
        }
      },
      "source": [
        "print(results)\n",
        "\n",
        "print(model.predict(x_test))"
      ],
      "execution_count": 0,
      "outputs": [
        {
          "output_type": "stream",
          "text": [
            "[0.3063553477191925, 0.88016]\n",
            "[[0.16952187]\n",
            " [0.99978185]\n",
            " [0.73357415]\n",
            " ...\n",
            " [0.09773767]\n",
            " [0.04309389]\n",
            " [0.47675127]]\n"
          ],
          "name": "stdout"
        }
      ]
    },
    {
      "cell_type": "markdown",
      "metadata": {
        "id": "SKPmY3_RHjBg",
        "colab_type": "text"
      },
      "source": [
        "*Layers with 32 hidden units*"
      ]
    },
    {
      "cell_type": "code",
      "metadata": {
        "id": "44Ut-TAfHrGw",
        "colab_type": "code",
        "outputId": "8fdbbf25-7f78-403a-80ad-2c23227b3dbf",
        "colab": {
          "base_uri": "https://localhost:8080/",
          "height": 170
        }
      },
      "source": [
        "model = models.Sequential()\n",
        "model.add(layers.Dense(32, activation='relu', input_shape=(10000,)))\n",
        "model.add(layers.Dense(32, activation='relu'))\n",
        "model.add(layers.Dense(1, activation='sigmoid'))\n",
        "\n",
        "model.compile(optimizer='rmsprop',\n",
        "             loss='binary_crossentropy',\n",
        "             metrics=['accuracy'])\n",
        "\n",
        "model.fit(x_train, y_train, epochs=4, batch_size=512)\n",
        "results= model.evaluate(x_test, y_test)"
      ],
      "execution_count": 0,
      "outputs": [
        {
          "output_type": "stream",
          "text": [
            "Epoch 1/4\n",
            "25000/25000 [==============================] - 2s 83us/step - loss: 0.4273 - acc: 0.8263\n",
            "Epoch 2/4\n",
            "25000/25000 [==============================] - 2s 63us/step - loss: 0.2414 - acc: 0.9115\n",
            "Epoch 3/4\n",
            "25000/25000 [==============================] - 1s 59us/step - loss: 0.1864 - acc: 0.9318\n",
            "Epoch 4/4\n",
            "25000/25000 [==============================] - 1s 59us/step - loss: 0.1596 - acc: 0.9410\n",
            "25000/25000 [==============================] - 2s 89us/step\n"
          ],
          "name": "stdout"
        }
      ]
    },
    {
      "cell_type": "code",
      "metadata": {
        "id": "xer3IqnnHx_B",
        "colab_type": "code",
        "outputId": "abe54a27-8130-4282-c6fb-bfbf78333988",
        "colab": {
          "base_uri": "https://localhost:8080/",
          "height": 153
        }
      },
      "source": [
        "print(results)\n",
        "\n",
        "print(model.predict(x_test))"
      ],
      "execution_count": 0,
      "outputs": [
        {
          "output_type": "stream",
          "text": [
            "[0.3311830430698395, 0.8732]\n",
            "[[0.10435268]\n",
            " [0.99993813]\n",
            " [0.79237556]\n",
            " ...\n",
            " [0.10573304]\n",
            " [0.04404742]\n",
            " [0.57043177]]\n"
          ],
          "name": "stdout"
        }
      ]
    },
    {
      "cell_type": "markdown",
      "metadata": {
        "id": "IqP8hFIAH-Ng",
        "colab_type": "text"
      },
      "source": [
        "*Layers with 64 hidden units*"
      ]
    },
    {
      "cell_type": "code",
      "metadata": {
        "id": "0A82CPR9ICcW",
        "colab_type": "code",
        "outputId": "5495bfd6-0104-44c8-a235-59dc347997b2",
        "colab": {
          "base_uri": "https://localhost:8080/",
          "height": 170
        }
      },
      "source": [
        "model = models.Sequential()\n",
        "model.add(layers.Dense(64, activation='relu', input_shape=(10000,)))\n",
        "model.add(layers.Dense(64, activation='relu'))\n",
        "model.add(layers.Dense(1, activation='sigmoid'))\n",
        "\n",
        "model.compile(optimizer='rmsprop',\n",
        "             loss='binary_crossentropy',\n",
        "             metrics=['accuracy'])\n",
        "\n",
        "model.fit(x_train, y_train, epochs=4, batch_size=512)\n",
        "results= model.evaluate(x_test, y_test)"
      ],
      "execution_count": 0,
      "outputs": [
        {
          "output_type": "stream",
          "text": [
            "Epoch 1/4\n",
            "25000/25000 [==============================] - 2s 82us/step - loss: 0.4191 - acc: 0.8132\n",
            "Epoch 2/4\n",
            "25000/25000 [==============================] - 2s 62us/step - loss: 0.2404 - acc: 0.9076\n",
            "Epoch 3/4\n",
            "25000/25000 [==============================] - 1s 59us/step - loss: 0.1832 - acc: 0.9311\n",
            "Epoch 4/4\n",
            "25000/25000 [==============================] - 1s 59us/step - loss: 0.1450 - acc: 0.9472\n",
            "25000/25000 [==============================] - 2s 89us/step\n"
          ],
          "name": "stdout"
        }
      ]
    },
    {
      "cell_type": "code",
      "metadata": {
        "id": "JieyRP7TIIzb",
        "colab_type": "code",
        "outputId": "8befb15a-6698-4110-c1fc-5c38d670b3fa",
        "colab": {
          "base_uri": "https://localhost:8080/",
          "height": 153
        }
      },
      "source": [
        "print(results)\n",
        "\n",
        "print(model.predict(x_test))"
      ],
      "execution_count": 0,
      "outputs": [
        {
          "output_type": "stream",
          "text": [
            "[0.33375497378349306, 0.8746]\n",
            "[[0.14198777]\n",
            " [0.99975795]\n",
            " [0.991109  ]\n",
            " ...\n",
            " [0.18764108]\n",
            " [0.05120301]\n",
            " [0.9024277 ]]\n"
          ],
          "name": "stdout"
        }
      ]
    },
    {
      "cell_type": "markdown",
      "metadata": {
        "id": "1n69cjVcIQ6I",
        "colab_type": "text"
      },
      "source": [
        "*Layers with 8 hidden units*"
      ]
    },
    {
      "cell_type": "code",
      "metadata": {
        "id": "Ttwz2MhQIVLm",
        "colab_type": "code",
        "outputId": "d34479c2-6f79-427f-f390-dc33fc27597c",
        "colab": {
          "base_uri": "https://localhost:8080/",
          "height": 170
        }
      },
      "source": [
        "model = models.Sequential()\n",
        "model.add(layers.Dense(8, activation='relu', input_shape=(10000,)))\n",
        "model.add(layers.Dense(8, activation='relu'))\n",
        "model.add(layers.Dense(1, activation='sigmoid'))\n",
        "\n",
        "model.compile(optimizer='rmsprop',\n",
        "             loss='binary_crossentropy',\n",
        "             metrics=['accuracy'])\n",
        "\n",
        "model.fit(x_train, y_train, epochs=4, batch_size=512)\n",
        "results= model.evaluate(x_test, y_test)"
      ],
      "execution_count": 0,
      "outputs": [
        {
          "output_type": "stream",
          "text": [
            "Epoch 1/4\n",
            "25000/25000 [==============================] - 2s 84us/step - loss: 0.5327 - acc: 0.7933\n",
            "Epoch 2/4\n",
            "25000/25000 [==============================] - 2s 62us/step - loss: 0.3335 - acc: 0.8982\n",
            "Epoch 3/4\n",
            "25000/25000 [==============================] - 1s 58us/step - loss: 0.2461 - acc: 0.9188\n",
            "Epoch 4/4\n",
            "25000/25000 [==============================] - 1s 58us/step - loss: 0.2004 - acc: 0.9328\n",
            "25000/25000 [==============================] - 2s 90us/step\n"
          ],
          "name": "stdout"
        }
      ]
    },
    {
      "cell_type": "code",
      "metadata": {
        "id": "sZvtPEpMIbBl",
        "colab_type": "code",
        "outputId": "99b23e18-75a6-4d06-fd60-af1f157dcec3",
        "colab": {
          "base_uri": "https://localhost:8080/",
          "height": 153
        }
      },
      "source": [
        "print(results)\n",
        "\n",
        "print(model.predict(x_test))"
      ],
      "execution_count": 0,
      "outputs": [
        {
          "output_type": "stream",
          "text": [
            "[0.2870816803359985, 0.8854]\n",
            "[[0.24418506]\n",
            " [0.9996493 ]\n",
            " [0.73706865]\n",
            " ...\n",
            " [0.14260471]\n",
            " [0.08764443]\n",
            " [0.4586814 ]]\n"
          ],
          "name": "stdout"
        }
      ]
    },
    {
      "cell_type": "markdown",
      "metadata": {
        "id": "dzXWA0d1IkDG",
        "colab_type": "text"
      },
      "source": [
        "*Different loss function (mse)*"
      ]
    },
    {
      "cell_type": "code",
      "metadata": {
        "id": "mTsADUWdIpD7",
        "colab_type": "code",
        "outputId": "87b533c2-f410-46f0-88e6-6f00ef841c1b",
        "colab": {
          "base_uri": "https://localhost:8080/",
          "height": 170
        }
      },
      "source": [
        "model = models.Sequential()\n",
        "model.add(layers.Dense(16, activation='relu', input_shape=(10000,)))\n",
        "model.add(layers.Dense(16, activation='relu'))\n",
        "model.add(layers.Dense(1, activation='sigmoid'))\n",
        "\n",
        "model.compile(optimizer='rmsprop',\n",
        "             loss='mse',\n",
        "             metrics=['accuracy'])\n",
        "\n",
        "model.fit(x_train, y_train, epochs=4, batch_size=512)\n",
        "results= model.evaluate(x_test, y_test)"
      ],
      "execution_count": 0,
      "outputs": [
        {
          "output_type": "stream",
          "text": [
            "Epoch 1/4\n",
            "25000/25000 [==============================] - 2s 82us/step - loss: 0.1442 - acc: 0.8188\n",
            "Epoch 2/4\n",
            "25000/25000 [==============================] - 2s 60us/step - loss: 0.0774 - acc: 0.9108\n",
            "Epoch 3/4\n",
            "25000/25000 [==============================] - 1s 57us/step - loss: 0.0581 - acc: 0.9324\n",
            "Epoch 4/4\n",
            "25000/25000 [==============================] - 1s 57us/step - loss: 0.0474 - acc: 0.9457\n",
            "25000/25000 [==============================] - 2s 86us/step\n"
          ],
          "name": "stdout"
        }
      ]
    },
    {
      "cell_type": "code",
      "metadata": {
        "id": "ah6Z5aYVI1fL",
        "colab_type": "code",
        "outputId": "f6a821e8-061b-4c18-ec92-bd6a99e2f8c9",
        "colab": {
          "base_uri": "https://localhost:8080/",
          "height": 153
        }
      },
      "source": [
        "print(results)\n",
        "\n",
        "print(model.predict(x_test))"
      ],
      "execution_count": 0,
      "outputs": [
        {
          "output_type": "stream",
          "text": [
            "[0.09137652460813522, 0.87544]\n",
            "[[0.21344733]\n",
            " [0.9998583 ]\n",
            " [0.96910673]\n",
            " ...\n",
            " [0.24443063]\n",
            " [0.14749804]\n",
            " [0.72448874]]\n"
          ],
          "name": "stdout"
        }
      ]
    },
    {
      "cell_type": "markdown",
      "metadata": {
        "id": "1qitq7M_I9x7",
        "colab_type": "text"
      },
      "source": [
        "*Different activation (tanh*)"
      ]
    },
    {
      "cell_type": "code",
      "metadata": {
        "id": "e2io-Nv4JCsD",
        "colab_type": "code",
        "outputId": "8fd16771-cffa-4f71-f0dc-2679bb081ac1",
        "colab": {
          "base_uri": "https://localhost:8080/",
          "height": 170
        }
      },
      "source": [
        "model = models.Sequential()\n",
        "model.add(layers.Dense(16, activation='tanh', input_shape=(10000,)))\n",
        "model.add(layers.Dense(16, activation='tanh'))\n",
        "model.add(layers.Dense(1, activation='sigmoid'))\n",
        "\n",
        "model.compile(optimizer='rmsprop',\n",
        "             loss='binary_crossentropy',\n",
        "             metrics=['accuracy'])\n",
        "\n",
        "model.fit(x_train, y_train, epochs=4, batch_size=512)\n",
        "results= model.evaluate(x_test, y_test)"
      ],
      "execution_count": 0,
      "outputs": [
        {
          "output_type": "stream",
          "text": [
            "Epoch 1/4\n",
            "25000/25000 [==============================] - 2s 84us/step - loss: 0.4143 - acc: 0.8289\n",
            "Epoch 2/4\n",
            "25000/25000 [==============================] - 2s 61us/step - loss: 0.2308 - acc: 0.9133\n",
            "Epoch 3/4\n",
            "25000/25000 [==============================] - 1s 58us/step - loss: 0.1761 - acc: 0.9341\n",
            "Epoch 4/4\n",
            "25000/25000 [==============================] - 1s 58us/step - loss: 0.1501 - acc: 0.9450\n",
            "25000/25000 [==============================] - 2s 93us/step\n"
          ],
          "name": "stdout"
        }
      ]
    },
    {
      "cell_type": "code",
      "metadata": {
        "id": "0mQLPYjdJKBx",
        "colab_type": "code",
        "outputId": "94162219-db87-4b9d-a625-3cb54620681a",
        "colab": {
          "base_uri": "https://localhost:8080/",
          "height": 153
        }
      },
      "source": [
        "print(results)\n",
        "\n",
        "print(model.predict(x_test))"
      ],
      "execution_count": 0,
      "outputs": [
        {
          "output_type": "stream",
          "text": [
            "[0.33124879012584685, 0.87564]\n",
            "[[0.11206976]\n",
            " [0.99881685]\n",
            " [0.8501334 ]\n",
            " ...\n",
            " [0.15507013]\n",
            " [0.0729228 ]\n",
            " [0.84427315]]\n"
          ],
          "name": "stdout"
        }
      ]
    },
    {
      "cell_type": "markdown",
      "metadata": {
        "id": "O2D94_ZOVZUN",
        "colab_type": "text"
      },
      "source": [
        "# Classifying Newswires:\n",
        "*Multiclassification*\n",
        "\n",
        "This is a classification of the *Reuters dataset*, a set of short newswires and their topics, published by Reuters in 1986. There are 46 different topics...each topic has at least 10 examples in the training set."
      ]
    },
    {
      "cell_type": "code",
      "metadata": {
        "id": "Q2xeUYBtVox7",
        "colab_type": "code",
        "outputId": "4ed9c20e-3752-48d9-b88b-ef107e2fc486",
        "colab": {
          "base_uri": "https://localhost:8080/",
          "height": 68
        }
      },
      "source": [
        "from keras.datasets import reuters\n",
        "\n",
        "import numpy as np\n",
        "\n",
        "#unpickle data\n",
        "np_load_old = np.load\n",
        "#modify the default parameters of np.load\n",
        "np.load = lambda *a,**k: np_load_old(*a, allow_pickle=True, **k)\n",
        "\n",
        "#call load_data with allow_pickle implicitly set to true\n",
        "(train_data, train_labels), (test_data, test_labels) = reuters.load_data (\n",
        "    num_words=1000)"
      ],
      "execution_count": 0,
      "outputs": [
        {
          "output_type": "stream",
          "text": [
            "Using TensorFlow backend.\n"
          ],
          "name": "stderr"
        },
        {
          "output_type": "stream",
          "text": [
            "Downloading data from https://s3.amazonaws.com/text-datasets/reuters.npz\n",
            "2113536/2110848 [==============================] - 0s 0us/step\n"
          ],
          "name": "stdout"
        }
      ]
    },
    {
      "cell_type": "code",
      "metadata": {
        "id": "E38jZABhW3T2",
        "colab_type": "code",
        "outputId": "18bc06cc-23f0-4153-d5b1-dd89b2dccbe5",
        "colab": {
          "base_uri": "https://localhost:8080/",
          "height": 34
        }
      },
      "source": [
        "# 8,982 training examples\n",
        " len(train_data)"
      ],
      "execution_count": 0,
      "outputs": [
        {
          "output_type": "execute_result",
          "data": {
            "text/plain": [
              "8982"
            ]
          },
          "metadata": {
            "tags": []
          },
          "execution_count": 5
        }
      ]
    },
    {
      "cell_type": "code",
      "metadata": {
        "id": "b8NORZZhXHyJ",
        "colab_type": "code",
        "outputId": "6c04724e-f474-43b7-b9bb-73b3dbf23a90",
        "colab": {
          "base_uri": "https://localhost:8080/",
          "height": 34
        }
      },
      "source": [
        "#2,246 test examples\n",
        " len(test_data)"
      ],
      "execution_count": 0,
      "outputs": [
        {
          "output_type": "execute_result",
          "data": {
            "text/plain": [
              "2246"
            ]
          },
          "metadata": {
            "tags": []
          },
          "execution_count": 6
        }
      ]
    },
    {
      "cell_type": "markdown",
      "metadata": {
        "id": "rsUY9KdiXSXr",
        "colab_type": "text"
      },
      "source": [
        "Each example is a list of integers (word indices). We have restricted the data to the 10,000 most frequently occuring words from the data"
      ]
    },
    {
      "cell_type": "code",
      "metadata": {
        "id": "vC4lHPk_X9DK",
        "colab_type": "code",
        "colab": {}
      },
      "source": [
        "import numpy as np\n",
        "\n",
        "#vectorize the data\n",
        "def vectorize_sequences(sequences, dimension=10000):\n",
        "  results = np.zeros((len(sequences), dimension))\n",
        "  for i, sequence in enumerate(sequences):\n",
        "    results[i, sequence] = 1.\n",
        "  return results\n",
        "\n",
        "x_train = vectorize_sequences(train_data)\n",
        "x_test = vectorize_sequences(test_data)"
      ],
      "execution_count": 0,
      "outputs": []
    },
    {
      "cell_type": "markdown",
      "metadata": {
        "id": "9MEZ_t16Y_fC",
        "colab_type": "text"
      },
      "source": [
        "\n",
        "\n",
        "> Use One-hot encoding to vectorize the labels\n",
        "\n"
      ]
    },
    {
      "cell_type": "code",
      "metadata": {
        "id": "C63H6CGOZHj5",
        "colab_type": "code",
        "colab": {}
      },
      "source": [
        "def to_one_hot(labels, dimension=46):\n",
        "  results = np.zeros((len(labels), dimension))\n",
        "  for i, label in enumerate(labels):\n",
        "    results[i, label] = 1.\n",
        "  return results\n",
        "\n",
        "one_hot_train_labels = to_one_hot(train_labels)\n",
        "one_hot_test_labels = to_one_hot(test_labels)"
      ],
      "execution_count": 0,
      "outputs": []
    },
    {
      "cell_type": "markdown",
      "metadata": {
        "id": "eEDWGsWmZn3k",
        "colab_type": "text"
      },
      "source": [
        "Or use the built-in *to_categorical* function from Keras\n",
        "\n",
        "```\n",
        "from keras.utils.np_utils import to_categorical\n",
        "\n",
        "one_hot_train_labels = to_categorical(train_labels)\n",
        "one_hot_test_labels = to_categorical(test_labels)\n",
        "```\n",
        "\n",
        "In the Movie review classification example, 16-Dimensional Dense layers worked well to classify two classes (good or bad), but that may be too limited to learn to separate 46 different classes. The last layer means that for each input sample, the network will output a 46-D vector. *softmax* activation means the network will output a probability distribution over the 46 different output classes\n",
        "\n"
      ]
    },
    {
      "cell_type": "code",
      "metadata": {
        "id": "2DF6aqaYasJm",
        "colab_type": "code",
        "colab": {}
      },
      "source": [
        "from keras import models\n",
        "from keras import layers\n",
        "\n",
        "model = models.Sequential()\n",
        "# start with two 64-dimensional hidden layers\n",
        "model.add(layers.Dense(64, activation='relu', input_shape=(10000,)))\n",
        "model.add(layers.Dense(64, activation='relu'))\n",
        "model.add(layers.Dense(46, activation='softmax'))"
      ],
      "execution_count": 0,
      "outputs": []
    },
    {
      "cell_type": "markdown",
      "metadata": {
        "id": "J1rAtPuRcCM0",
        "colab_type": "text"
      },
      "source": [
        "The best loss function to use is categorical_crossentropy because it measures the distance between two probability distributions: here, between the probability distribution output by the network and the true distribution of the labels. By minimizing the distance between these two distributions, you train the network to output something as close as possible to the true labels."
      ]
    },
    {
      "cell_type": "code",
      "metadata": {
        "id": "uDMtavRHcybl",
        "colab_type": "code",
        "colab": {}
      },
      "source": [
        "model.compile(optimizer='rmsprop',\n",
        "             loss='categorical_crossentropy',\n",
        "             metrics=['accuracy'])"
      ],
      "execution_count": 0,
      "outputs": []
    },
    {
      "cell_type": "code",
      "metadata": {
        "id": "mFgwqKTjc9ug",
        "colab_type": "code",
        "colab": {}
      },
      "source": [
        "# setting apart 1,000 samples in the training data to use as validation\n",
        "x_val = x_train[:1000]\n",
        "partial_x_train = x_train[1000:]\n",
        "\n",
        "y_val = one_hot_train_labels[:1000]\n",
        "partial_y_train = one_hot_train_labels[1000:]"
      ],
      "execution_count": 0,
      "outputs": []
    },
    {
      "cell_type": "markdown",
      "metadata": {
        "id": "ynD3iQjIdcA1",
        "colab_type": "text"
      },
      "source": [
        "**Training the Model**\n",
        "for 20 epochs"
      ]
    },
    {
      "cell_type": "code",
      "metadata": {
        "id": "m8rGqvX4dgbm",
        "colab_type": "code",
        "outputId": "34cf004f-2d61-4431-b506-2a6b24e82f13",
        "colab": {
          "base_uri": "https://localhost:8080/",
          "height": 819
        }
      },
      "source": [
        "history = model.fit(partial_x_train,\n",
        "                   partial_y_train,\n",
        "                   epochs=20,\n",
        "                   batch_size=512,\n",
        "                   validation_data=(x_val, y_val))"
      ],
      "execution_count": 0,
      "outputs": [
        {
          "output_type": "stream",
          "text": [
            "W0723 20:31:20.885215 139780585990016 deprecation.py:323] From /usr/local/lib/python3.6/dist-packages/tensorflow/python/ops/math_grad.py:1250: add_dispatch_support.<locals>.wrapper (from tensorflow.python.ops.array_ops) is deprecated and will be removed in a future version.\n",
            "Instructions for updating:\n",
            "Use tf.where in 2.0, which has the same broadcast rule as np.where\n",
            "W0723 20:31:20.975728 139780585990016 deprecation_wrapper.py:119] From /usr/local/lib/python3.6/dist-packages/keras/backend/tensorflow_backend.py:986: The name tf.assign_add is deprecated. Please use tf.compat.v1.assign_add instead.\n",
            "\n"
          ],
          "name": "stderr"
        },
        {
          "output_type": "stream",
          "text": [
            "Train on 7982 samples, validate on 1000 samples\n",
            "Epoch 1/20\n",
            "7982/7982 [==============================] - 5s 571us/step - loss: 2.6078 - acc: 0.4870 - val_loss: 1.8245 - val_acc: 0.5780\n",
            "Epoch 2/20\n",
            "7982/7982 [==============================] - 1s 71us/step - loss: 1.6343 - acc: 0.6333 - val_loss: 1.4848 - val_acc: 0.6600\n",
            "Epoch 3/20\n",
            "7982/7982 [==============================] - 1s 73us/step - loss: 1.3625 - acc: 0.7007 - val_loss: 1.3200 - val_acc: 0.7100\n",
            "Epoch 4/20\n",
            "7982/7982 [==============================] - 1s 73us/step - loss: 1.1973 - acc: 0.7385 - val_loss: 1.2014 - val_acc: 0.7320\n",
            "Epoch 5/20\n",
            "7982/7982 [==============================] - 1s 71us/step - loss: 1.0701 - acc: 0.7684 - val_loss: 1.1228 - val_acc: 0.7530\n",
            "Epoch 6/20\n",
            "7982/7982 [==============================] - 1s 72us/step - loss: 0.9719 - acc: 0.7838 - val_loss: 1.0753 - val_acc: 0.7620\n",
            "Epoch 7/20\n",
            "7982/7982 [==============================] - 1s 73us/step - loss: 0.8946 - acc: 0.7990 - val_loss: 1.0344 - val_acc: 0.7610\n",
            "Epoch 8/20\n",
            "7982/7982 [==============================] - 1s 75us/step - loss: 0.8205 - acc: 0.8125 - val_loss: 1.0185 - val_acc: 0.7650\n",
            "Epoch 9/20\n",
            "7982/7982 [==============================] - 1s 74us/step - loss: 0.7602 - acc: 0.8227 - val_loss: 0.9772 - val_acc: 0.7770\n",
            "Epoch 10/20\n",
            "7982/7982 [==============================] - 1s 72us/step - loss: 0.7073 - acc: 0.8338 - val_loss: 0.9504 - val_acc: 0.7940\n",
            "Epoch 11/20\n",
            "7982/7982 [==============================] - 1s 71us/step - loss: 0.6528 - acc: 0.8493 - val_loss: 0.9485 - val_acc: 0.7890\n",
            "Epoch 12/20\n",
            "7982/7982 [==============================] - 1s 71us/step - loss: 0.6067 - acc: 0.8612 - val_loss: 0.9236 - val_acc: 0.8060\n",
            "Epoch 13/20\n",
            "7982/7982 [==============================] - 1s 72us/step - loss: 0.5710 - acc: 0.8666 - val_loss: 0.9256 - val_acc: 0.8010\n",
            "Epoch 14/20\n",
            "7982/7982 [==============================] - 1s 72us/step - loss: 0.5350 - acc: 0.8770 - val_loss: 0.9164 - val_acc: 0.8010\n",
            "Epoch 15/20\n",
            "7982/7982 [==============================] - 1s 72us/step - loss: 0.4942 - acc: 0.8882 - val_loss: 0.9132 - val_acc: 0.8020\n",
            "Epoch 16/20\n",
            "7982/7982 [==============================] - 1s 73us/step - loss: 0.4654 - acc: 0.8906 - val_loss: 0.9162 - val_acc: 0.8030\n",
            "Epoch 17/20\n",
            "7982/7982 [==============================] - 1s 73us/step - loss: 0.4388 - acc: 0.8963 - val_loss: 0.9168 - val_acc: 0.7970\n",
            "Epoch 18/20\n",
            "7982/7982 [==============================] - 1s 74us/step - loss: 0.4108 - acc: 0.9022 - val_loss: 0.9207 - val_acc: 0.8070\n",
            "Epoch 19/20\n",
            "7982/7982 [==============================] - 1s 72us/step - loss: 0.3933 - acc: 0.9060 - val_loss: 0.9380 - val_acc: 0.7970\n",
            "Epoch 20/20\n",
            "7982/7982 [==============================] - 1s 73us/step - loss: 0.3659 - acc: 0.9127 - val_loss: 0.9762 - val_acc: 0.7820\n"
          ],
          "name": "stdout"
        }
      ]
    },
    {
      "cell_type": "markdown",
      "metadata": {
        "id": "uyTRn6-4d7mV",
        "colab_type": "text"
      },
      "source": [
        "**Display Loss and Accuracy curves**"
      ]
    },
    {
      "cell_type": "code",
      "metadata": {
        "id": "7dICmdCzeB_o",
        "colab_type": "code",
        "outputId": "bae2a53b-74c2-4ed6-a233-61a1cf093042",
        "colab": {
          "base_uri": "https://localhost:8080/",
          "height": 295
        }
      },
      "source": [
        "import matplotlib.pyplot as plt\n",
        "\n",
        "loss = history.history['loss']\n",
        "val_loss = history.history['val_loss']\n",
        "\n",
        "epochs = range(1, len(loss) + 1)\n",
        "\n",
        "plt.plot(epochs, loss, 'bo', label='Training loss')\n",
        "plt.plot(epochs, val_loss, 'b', label='Validation loss')\n",
        "plt.title('Training and Validation loss')\n",
        "plt.xlabel('Epochs')\n",
        "plt.ylabel('Loss')\n",
        "plt.legend()\n",
        "\n",
        "plt.show()"
      ],
      "execution_count": 0,
      "outputs": [
        {
          "output_type": "display_data",
          "data": {
            "image/png": "[encoded data removed]",
            "text/plain": [
              "<Figure size 432x288 with 1 Axes>"
            ]
          },
          "metadata": {
            "tags": []
          }
        }
      ]
    },
    {
      "cell_type": "code",
      "metadata": {
        "id": "aI6KFmzMeuKJ",
        "colab_type": "code",
        "outputId": "1f3f5266-a388-4f05-cbc3-a63c556f6788",
        "colab": {
          "base_uri": "https://localhost:8080/",
          "height": 295
        }
      },
      "source": [
        "plt.clf()\n",
        "\n",
        "acc = history.history['acc']\n",
        "val_acc = history.history['val_acc']\n",
        "\n",
        "plt.plot(epochs, acc, 'bo', label='Training accuracy')\n",
        "plt.plot(epochs, val_acc, 'b', label='Training validation')\n",
        "plt.title('Training and Validation accuracy')\n",
        "plt.xlabel('Epochs')\n",
        "plt.ylabel('Accuracy')\n",
        "plt.legend()\n",
        "\n",
        "plt.show()"
      ],
      "execution_count": 0,
      "outputs": [
        {
          "output_type": "display_data",
          "data": {
            "image/png": "[encoded data removed]",
            "text/plain": [
              "<Figure size 432x288 with 1 Axes>"
            ]
          },
          "metadata": {
            "tags": []
          }
        }
      ]
    },
    {
      "cell_type": "markdown",
      "metadata": {
        "id": "xwRR0xBYffBB",
        "colab_type": "text"
      },
      "source": [
        "\n",
        "\n",
        "> We can see that the network begins to overfit after nine epochs, so let's traina new network from scratch for nine epochs and then evaluate it on the test set.\n",
        "\n"
      ]
    },
    {
      "cell_type": "markdown",
      "metadata": {
        "id": "MyA9kTxNfpf8",
        "colab_type": "text"
      },
      "source": [
        "**Retraining the model**"
      ]
    },
    {
      "cell_type": "code",
      "metadata": {
        "id": "NeYq4zo-fsNL",
        "colab_type": "code",
        "outputId": "e770e3d0-30d9-4ada-b4d4-6c2a0a3ad741",
        "colab": {
          "base_uri": "https://localhost:8080/",
          "height": 377
        }
      },
      "source": [
        "model = models.Sequential()\n",
        "model.add(layers.Dense(64, activation='relu', input_shape=(10000,)))\n",
        "model.add(layers.Dense(64, activation='relu'))\n",
        "model.add(layers.Dense(46, activation='softmax'))\n",
        "\n",
        "model.compile(optimizer='rmsprop',\n",
        "             loss='categorical_crossentropy',\n",
        "             metrics=['accuracy'])\n",
        "model.fit(partial_x_train,\n",
        "         partial_y_train,\n",
        "         epochs=9,\n",
        "         batch_size=512,\n",
        "         validation_data=(x_val, y_val))\n",
        "results = model.evaluate(x_test, one_hot_test_labels)"
      ],
      "execution_count": 0,
      "outputs": [
        {
          "output_type": "stream",
          "text": [
            "Train on 7982 samples, validate on 1000 samples\n",
            "Epoch 1/9\n",
            "7982/7982 [==============================] - 1s 97us/step - loss: 2.6550 - acc: 0.4966 - val_loss: 1.8184 - val_acc: 0.6120\n",
            "Epoch 2/9\n",
            "7982/7982 [==============================] - 1s 72us/step - loss: 1.5919 - acc: 0.6626 - val_loss: 1.4304 - val_acc: 0.6740\n",
            "Epoch 3/9\n",
            "7982/7982 [==============================] - 1s 73us/step - loss: 1.3025 - acc: 0.7125 - val_loss: 1.2648 - val_acc: 0.7170\n",
            "Epoch 4/9\n",
            "7982/7982 [==============================] - 1s 71us/step - loss: 1.1484 - acc: 0.7449 - val_loss: 1.1820 - val_acc: 0.7250\n",
            "Epoch 5/9\n",
            "7982/7982 [==============================] - 1s 72us/step - loss: 1.0341 - acc: 0.7714 - val_loss: 1.1039 - val_acc: 0.7510\n",
            "Epoch 6/9\n",
            "7982/7982 [==============================] - 1s 70us/step - loss: 0.9456 - acc: 0.7903 - val_loss: 1.0370 - val_acc: 0.7740\n",
            "Epoch 7/9\n",
            "7982/7982 [==============================] - 1s 71us/step - loss: 0.8619 - acc: 0.8053 - val_loss: 1.0157 - val_acc: 0.7850\n",
            "Epoch 8/9\n",
            "7982/7982 [==============================] - 1s 71us/step - loss: 0.7950 - acc: 0.8163 - val_loss: 0.9724 - val_acc: 0.7820\n",
            "Epoch 9/9\n",
            "7982/7982 [==============================] - 1s 72us/step - loss: 0.7287 - acc: 0.8294 - val_loss: 0.9574 - val_acc: 0.7870\n",
            "2246/2246 [==============================] - 0s 101us/step\n"
          ],
          "name": "stdout"
        }
      ]
    },
    {
      "cell_type": "markdown",
      "metadata": {
        "id": "nDhs0cz0iZjI",
        "colab_type": "text"
      },
      "source": [
        "**Final results**"
      ]
    },
    {
      "cell_type": "code",
      "metadata": {
        "id": "oI95V9vvgn_O",
        "colab_type": "code",
        "outputId": "2236d112-2769-4a11-ec1a-f9bcf3379c39",
        "colab": {
          "base_uri": "https://localhost:8080/",
          "height": 34
        }
      },
      "source": [
        "results"
      ],
      "execution_count": 0,
      "outputs": [
        {
          "output_type": "execute_result",
          "data": {
            "text/plain": [
              "[1.0210256621122147, 0.7600178094390027]"
            ]
          },
          "metadata": {
            "tags": []
          },
          "execution_count": 16
        }
      ]
    },
    {
      "cell_type": "markdown",
      "metadata": {
        "id": "Ogd6ny-QgyAM",
        "colab_type": "text"
      },
      "source": [
        "This approach reaches an accuracy of 76%, which isn't bad considering that a purely random classifier would get around 19%.\n",
        "\n",
        "**Generating predictions for new data**"
      ]
    },
    {
      "cell_type": "code",
      "metadata": {
        "id": "2Yb-2oa8hFQY",
        "colab_type": "code",
        "colab": {}
      },
      "source": [
        "predictions = model.predict(x_test)"
      ],
      "execution_count": 0,
      "outputs": []
    },
    {
      "cell_type": "code",
      "metadata": {
        "id": "FHJzk_ldhLxH",
        "colab_type": "code",
        "outputId": "cfeb4932-e714-4843-f07d-f7cee7011867",
        "colab": {
          "base_uri": "https://localhost:8080/",
          "height": 34
        }
      },
      "source": [
        "# each entry in 'predictions' is a vector of length 46\n",
        " predictions[0].shape"
      ],
      "execution_count": 0,
      "outputs": [
        {
          "output_type": "execute_result",
          "data": {
            "text/plain": [
              "(46,)"
            ]
          },
          "metadata": {
            "tags": []
          },
          "execution_count": 24
        }
      ]
    },
    {
      "cell_type": "code",
      "metadata": {
        "id": "N7g63DbyhZm7",
        "colab_type": "code",
        "outputId": "1b8cf130-5916-4eb5-bb46-a0741b64a397",
        "colab": {
          "base_uri": "https://localhost:8080/",
          "height": 34
        }
      },
      "source": [
        "# the coefficients in this vector sum to 1\n",
        " np.sum(predictions[0])"
      ],
      "execution_count": 0,
      "outputs": [
        {
          "output_type": "execute_result",
          "data": {
            "text/plain": [
              "0.9999998"
            ]
          },
          "metadata": {
            "tags": []
          },
          "execution_count": 25
        }
      ]
    },
    {
      "cell_type": "code",
      "metadata": {
        "id": "zdR1IJ8KhiUV",
        "colab_type": "code",
        "outputId": "a0bf0f90-8f82-4060-80e3-d4f8a623dd2c",
        "colab": {
          "base_uri": "https://localhost:8080/",
          "height": 34
        }
      },
      "source": [
        "# the largest entry is the predicted class - the class with the highest probability\n",
        " np.argmax(predictions[0])"
      ],
      "execution_count": 0,
      "outputs": [
        {
          "output_type": "execute_result",
          "data": {
            "text/plain": [
              "3"
            ]
          },
          "metadata": {
            "tags": []
          },
          "execution_count": 26
        }
      ]
    },
    {
      "cell_type": "markdown",
      "metadata": {
        "id": "GCCv1tGLig37",
        "colab_type": "text"
      },
      "source": [
        "**Further Experiments**\n",
        "\n",
        "* *Larger or Smaller Layers*\n",
        "* *More or Fewers Hidden Layers*\n",
        "\n"
      ]
    },
    {
      "cell_type": "code",
      "metadata": {
        "id": "ZD0m0v0Ii-c7",
        "colab_type": "code",
        "outputId": "1388e49d-053b-4863-b8a8-1cd2d21783d7",
        "colab": {
          "base_uri": "https://localhost:8080/",
          "height": 394
        }
      },
      "source": [
        "model = models.Sequential()\n",
        "# 128-D layers\n",
        "model.add(layers.Dense(128, activation='relu', input_shape=(10000,)))\n",
        "model.add(layers.Dense(128, activation='relu'))\n",
        "model.add(layers.Dense(46, activation='softmax'))\n",
        "\n",
        "model.compile(optimizer='rmsprop',\n",
        "             loss='categorical_crossentropy',\n",
        "             metrics=['accuracy'])\n",
        "model.fit(partial_x_train,\n",
        "         partial_y_train,\n",
        "         epochs=9,\n",
        "         batch_size=512,\n",
        "         validation_data=(x_val, y_val))\n",
        "results = model.evaluate(x_test, one_hot_test_labels)\n",
        "\n",
        "results"
      ],
      "execution_count": 0,
      "outputs": [
        {
          "output_type": "stream",
          "text": [
            "Train on 7982 samples, validate on 1000 samples\n",
            "Epoch 1/9\n",
            "7982/7982 [==============================] - 1s 110us/step - loss: 2.2218 - acc: 0.5372 - val_loss: 1.5151 - val_acc: 0.6510\n",
            "Epoch 2/9\n",
            "7982/7982 [==============================] - 1s 76us/step - loss: 1.3344 - acc: 0.7066 - val_loss: 1.2479 - val_acc: 0.7210\n",
            "Epoch 3/9\n",
            "7982/7982 [==============================] - 1s 75us/step - loss: 1.1150 - acc: 0.7547 - val_loss: 1.1165 - val_acc: 0.7510\n",
            "Epoch 4/9\n",
            "7982/7982 [==============================] - 1s 74us/step - loss: 0.9651 - acc: 0.7850 - val_loss: 1.0310 - val_acc: 0.7780\n",
            "Epoch 5/9\n",
            "7982/7982 [==============================] - 1s 75us/step - loss: 0.8478 - acc: 0.8056 - val_loss: 0.9592 - val_acc: 0.7890\n",
            "Epoch 6/9\n",
            "7982/7982 [==============================] - 1s 75us/step - loss: 0.7504 - acc: 0.8282 - val_loss: 0.9309 - val_acc: 0.7900\n",
            "Epoch 7/9\n",
            "7982/7982 [==============================] - 1s 76us/step - loss: 0.6586 - acc: 0.8500 - val_loss: 0.9116 - val_acc: 0.7930\n",
            "Epoch 8/9\n",
            "7982/7982 [==============================] - 1s 75us/step - loss: 0.5969 - acc: 0.8607 - val_loss: 0.9089 - val_acc: 0.7940\n",
            "Epoch 9/9\n",
            "7982/7982 [==============================] - 1s 75us/step - loss: 0.5332 - acc: 0.8781 - val_loss: 0.8730 - val_acc: 0.8100\n",
            "2246/2246 [==============================] - 0s 101us/step\n"
          ],
          "name": "stdout"
        },
        {
          "output_type": "execute_result",
          "data": {
            "text/plain": [
              "[0.9368817472924957, 0.7845057880676759]"
            ]
          },
          "metadata": {
            "tags": []
          },
          "execution_count": 18
        }
      ]
    },
    {
      "cell_type": "code",
      "metadata": {
        "id": "dGH6sbLqjY42",
        "colab_type": "code",
        "outputId": "0fa7a38d-b55f-4b65-8d86-80f94b16986e",
        "colab": {
          "base_uri": "https://localhost:8080/",
          "height": 394
        }
      },
      "source": [
        "model = models.Sequential()\n",
        "# 32-D layers\n",
        "model.add(layers.Dense(32, activation='relu', input_shape=(10000,)))\n",
        "model.add(layers.Dense(32, activation='relu'))\n",
        "model.add(layers.Dense(46, activation='softmax'))\n",
        "\n",
        "model.compile(optimizer='rmsprop',\n",
        "             loss='categorical_crossentropy',\n",
        "             metrics=['accuracy'])\n",
        "model.fit(partial_x_train,\n",
        "         partial_y_train,\n",
        "         epochs=9,\n",
        "         batch_size=512,\n",
        "         validation_data=(x_val, y_val))\n",
        "results = model.evaluate(x_test, one_hot_test_labels)\n",
        "\n",
        "results"
      ],
      "execution_count": 0,
      "outputs": [
        {
          "output_type": "stream",
          "text": [
            "Train on 7982 samples, validate on 1000 samples\n",
            "Epoch 1/9\n",
            "7982/7982 [==============================] - 1s 108us/step - loss: 3.2054 - acc: 0.3400 - val_loss: 2.5475 - val_acc: 0.5430\n",
            "Epoch 2/9\n",
            "7982/7982 [==============================] - 1s 74us/step - loss: 2.1357 - acc: 0.5983 - val_loss: 1.8155 - val_acc: 0.6140\n",
            "Epoch 3/9\n",
            "7982/7982 [==============================] - 1s 71us/step - loss: 1.6478 - acc: 0.6576 - val_loss: 1.5246 - val_acc: 0.6530\n",
            "Epoch 4/9\n",
            "7982/7982 [==============================] - 1s 72us/step - loss: 1.4230 - acc: 0.6857 - val_loss: 1.3686 - val_acc: 0.6880\n",
            "Epoch 5/9\n",
            "7982/7982 [==============================] - 1s 73us/step - loss: 1.2871 - acc: 0.7162 - val_loss: 1.2992 - val_acc: 0.7150\n",
            "Epoch 6/9\n",
            "7982/7982 [==============================] - 1s 73us/step - loss: 1.1912 - acc: 0.7350 - val_loss: 1.2187 - val_acc: 0.7350\n",
            "Epoch 7/9\n",
            "7982/7982 [==============================] - 1s 72us/step - loss: 1.1125 - acc: 0.7562 - val_loss: 1.1803 - val_acc: 0.7450\n",
            "Epoch 8/9\n",
            "7982/7982 [==============================] - 1s 74us/step - loss: 1.0462 - acc: 0.7700 - val_loss: 1.1358 - val_acc: 0.7580\n",
            "Epoch 9/9\n",
            "7982/7982 [==============================] - 1s 74us/step - loss: 0.9881 - acc: 0.7874 - val_loss: 1.1030 - val_acc: 0.7630\n",
            "2246/2246 [==============================] - 0s 91us/step\n"
          ],
          "name": "stdout"
        },
        {
          "output_type": "execute_result",
          "data": {
            "text/plain": [
              "[1.1652353429836773, 0.7364203027870012]"
            ]
          },
          "metadata": {
            "tags": []
          },
          "execution_count": 19
        }
      ]
    },
    {
      "cell_type": "code",
      "metadata": {
        "id": "FdHhO7ssjnov",
        "colab_type": "code",
        "outputId": "1ca38feb-f220-4d67-a641-c413a93b4612",
        "colab": {
          "base_uri": "https://localhost:8080/",
          "height": 394
        }
      },
      "source": [
        "model = models.Sequential()\n",
        "# 3 hidden layers\n",
        "model.add(layers.Dense(64, activation='relu', input_shape=(10000,)))\n",
        "model.add(layers.Dense(64, activation='relu'))\n",
        "model.add(layers.Dense(64, activation='relu'))\n",
        "model.add(layers.Dense(46, activation='softmax'))\n",
        "\n",
        "model.compile(optimizer='rmsprop',\n",
        "             loss='categorical_crossentropy',\n",
        "             metrics=['accuracy'])\n",
        "model.fit(partial_x_train,\n",
        "         partial_y_train,\n",
        "         epochs=9,\n",
        "         batch_size=512,\n",
        "         validation_data=(x_val, y_val))\n",
        "results = model.evaluate(x_test, one_hot_test_labels)\n",
        "\n",
        "results"
      ],
      "execution_count": 0,
      "outputs": [
        {
          "output_type": "stream",
          "text": [
            "Train on 7982 samples, validate on 1000 samples\n",
            "Epoch 1/9\n",
            "7982/7982 [==============================] - 1s 122us/step - loss: 2.6731 - acc: 0.4427 - val_loss: 1.8242 - val_acc: 0.5970\n",
            "Epoch 2/9\n",
            "7982/7982 [==============================] - 1s 73us/step - loss: 1.6237 - acc: 0.6452 - val_loss: 1.4408 - val_acc: 0.6720\n",
            "Epoch 3/9\n",
            "7982/7982 [==============================] - 1s 75us/step - loss: 1.3527 - acc: 0.7013 - val_loss: 1.2962 - val_acc: 0.7040\n",
            "Epoch 4/9\n",
            "7982/7982 [==============================] - 1s 75us/step - loss: 1.1904 - acc: 0.7330 - val_loss: 1.1958 - val_acc: 0.7290\n",
            "Epoch 5/9\n",
            "7982/7982 [==============================] - 1s 76us/step - loss: 1.0742 - acc: 0.7586 - val_loss: 1.1505 - val_acc: 0.7300\n",
            "Epoch 6/9\n",
            "7982/7982 [==============================] - 1s 74us/step - loss: 0.9834 - acc: 0.7783 - val_loss: 1.0771 - val_acc: 0.7530\n",
            "Epoch 7/9\n",
            "7982/7982 [==============================] - 1s 75us/step - loss: 0.8945 - acc: 0.7965 - val_loss: 1.0263 - val_acc: 0.7630\n",
            "Epoch 8/9\n",
            "7982/7982 [==============================] - 1s 75us/step - loss: 0.8304 - acc: 0.8061 - val_loss: 1.0082 - val_acc: 0.7680\n",
            "Epoch 9/9\n",
            "7982/7982 [==============================] - 1s 75us/step - loss: 0.7530 - acc: 0.8237 - val_loss: 0.9858 - val_acc: 0.7830\n",
            "2246/2246 [==============================] - 0s 102us/step\n"
          ],
          "name": "stdout"
        },
        {
          "output_type": "execute_result",
          "data": {
            "text/plain": [
              "[1.0557592944810141, 0.7604630454140695]"
            ]
          },
          "metadata": {
            "tags": []
          },
          "execution_count": 20
        }
      ]
    },
    {
      "cell_type": "code",
      "metadata": {
        "id": "beUdayUDjyyv",
        "colab_type": "code",
        "outputId": "6e8904a0-2742-41a1-849c-eb639a266d47",
        "colab": {
          "base_uri": "https://localhost:8080/",
          "height": 394
        }
      },
      "source": [
        "model = models.Sequential()\n",
        "# 1 hidden layer\n",
        "model.add(layers.Dense(64, activation='relu', input_shape=(10000,)))\n",
        "model.add(layers.Dense(46, activation='softmax'))\n",
        "\n",
        "model.compile(optimizer='rmsprop',\n",
        "             loss='categorical_crossentropy',\n",
        "             metrics=['accuracy'])\n",
        "model.fit(partial_x_train,\n",
        "         partial_y_train,\n",
        "         epochs=9,\n",
        "         batch_size=512,\n",
        "         validation_data=(x_val, y_val))\n",
        "results = model.evaluate(x_test, one_hot_test_labels)\n",
        "\n",
        "results"
      ],
      "execution_count": 0,
      "outputs": [
        {
          "output_type": "stream",
          "text": [
            "Train on 7982 samples, validate on 1000 samples\n",
            "Epoch 1/9\n",
            "7982/7982 [==============================] - 1s 117us/step - loss: 2.7171 - acc: 0.5417 - val_loss: 1.9915 - val_acc: 0.6340\n",
            "Epoch 2/9\n",
            "7982/7982 [==============================] - 1s 75us/step - loss: 1.7112 - acc: 0.6787 - val_loss: 1.5083 - val_acc: 0.6900\n",
            "Epoch 3/9\n",
            "7982/7982 [==============================] - 1s 72us/step - loss: 1.3635 - acc: 0.7236 - val_loss: 1.2840 - val_acc: 0.7250\n",
            "Epoch 4/9\n",
            "7982/7982 [==============================] - 1s 73us/step - loss: 1.1734 - acc: 0.7547 - val_loss: 1.1634 - val_acc: 0.7530\n",
            "Epoch 5/9\n",
            "7982/7982 [==============================] - 1s 73us/step - loss: 1.0475 - acc: 0.7769 - val_loss: 1.0923 - val_acc: 0.7570\n",
            "Epoch 6/9\n",
            "7982/7982 [==============================] - 1s 72us/step - loss: 0.9540 - acc: 0.7900 - val_loss: 1.0302 - val_acc: 0.7760\n",
            "Epoch 7/9\n",
            "7982/7982 [==============================] - 1s 72us/step - loss: 0.8750 - acc: 0.8063 - val_loss: 0.9918 - val_acc: 0.7820\n",
            "Epoch 8/9\n",
            "7982/7982 [==============================] - 1s 72us/step - loss: 0.8054 - acc: 0.8196 - val_loss: 0.9624 - val_acc: 0.7850\n",
            "Epoch 9/9\n",
            "7982/7982 [==============================] - 1s 74us/step - loss: 0.7459 - acc: 0.8346 - val_loss: 0.9331 - val_acc: 0.7900\n",
            "2246/2246 [==============================] - 0s 94us/step\n"
          ],
          "name": "stdout"
        },
        {
          "output_type": "execute_result",
          "data": {
            "text/plain": [
              "[1.0072901440006437, 0.7609082814156743]"
            ]
          },
          "metadata": {
            "tags": []
          },
          "execution_count": 21
        }
      ]
    },
    {
      "cell_type": "markdown",
      "metadata": {
        "id": "briFTfmpklZS",
        "colab_type": "text"
      },
      "source": [
        "# Predicting House Prices:\n",
        "*Regression*\n",
        "\n",
        "Regression problems consist of predicting a continuous value instead of a discrete label: for instance, predicting the temparature tomorrow, given meteorological; or predicting the time that a software project will take to complete, given its specifications\n",
        "\n",
        "**The Boston Housing Price dataset**"
      ]
    },
    {
      "cell_type": "code",
      "metadata": {
        "id": "3vXZWanilOdp",
        "colab_type": "code",
        "outputId": "4afb1ae7-a216-4a03-aa31-4c31d71f242f",
        "colab": {
          "base_uri": "https://localhost:8080/",
          "height": 88
        }
      },
      "source": [
        "from keras.datasets import boston_housing\n",
        "\n",
        "(train_data, train_targets), (test_data, test_targets) = boston_housing.load_data()"
      ],
      "execution_count": 0,
      "outputs": [
        {
          "output_type": "stream",
          "text": [
            "Using TensorFlow backend.\n"
          ],
          "name": "stderr"
        },
        {
          "output_type": "stream",
          "text": [
            "Downloading data from https://s3.amazonaws.com/keras-datasets/boston_housing.npz\n",
            "57344/57026 [==============================] - 0s 8us/step\n"
          ],
          "name": "stdout"
        }
      ]
    },
    {
      "cell_type": "code",
      "metadata": {
        "id": "aE7d63Q5lqvm",
        "colab_type": "code",
        "outputId": "755dc1df-4ff2-467e-f710-fdeba020635f",
        "colab": {
          "base_uri": "https://localhost:8080/",
          "height": 34
        }
      },
      "source": [
        "# 404 training samples with 13 numerical features\n",
        "train_data.shape"
      ],
      "execution_count": 0,
      "outputs": [
        {
          "output_type": "execute_result",
          "data": {
            "text/plain": [
              "(404, 13)"
            ]
          },
          "metadata": {
            "tags": []
          },
          "execution_count": 24
        }
      ]
    },
    {
      "cell_type": "code",
      "metadata": {
        "id": "rxBUr9TsltU6",
        "colab_type": "code",
        "outputId": "2aff54a9-0892-45e4-8431-362a2bc8b6ce",
        "colab": {
          "base_uri": "https://localhost:8080/",
          "height": 34
        }
      },
      "source": [
        "# 102 test samples with 13 numerical features\n",
        "test_data.shape"
      ],
      "execution_count": 0,
      "outputs": [
        {
          "output_type": "execute_result",
          "data": {
            "text/plain": [
              "(102, 13)"
            ]
          },
          "metadata": {
            "tags": []
          },
          "execution_count": 25
        }
      ]
    },
    {
      "cell_type": "code",
      "metadata": {
        "id": "O4YtGFuxmHvy",
        "colab_type": "code",
        "outputId": "f0bc0993-c3a1-4ef1-ddf6-59429c22d871",
        "colab": {
          "base_uri": "https://localhost:8080/",
          "height": 646
        }
      },
      "source": [
        "# the targets are the median values of owner-occupied homes, in thousands of dollars\n",
        "train_targets"
      ],
      "execution_count": 0,
      "outputs": [
        {
          "output_type": "execute_result",
          "data": {
            "text/plain": [
              "array([15.2, 42.3, 50. , 21.1, 17.7, 18.5, 11.3, 15.6, 15.6, 14.4, 12.1,\n",
              "       17.9, 23.1, 19.9, 15.7,  8.8, 50. , 22.5, 24.1, 27.5, 10.9, 30.8,\n",
              "       32.9, 24. , 18.5, 13.3, 22.9, 34.7, 16.6, 17.5, 22.3, 16.1, 14.9,\n",
              "       23.1, 34.9, 25. , 13.9, 13.1, 20.4, 20. , 15.2, 24.7, 22.2, 16.7,\n",
              "       12.7, 15.6, 18.4, 21. , 30.1, 15.1, 18.7,  9.6, 31.5, 24.8, 19.1,\n",
              "       22. , 14.5, 11. , 32. , 29.4, 20.3, 24.4, 14.6, 19.5, 14.1, 14.3,\n",
              "       15.6, 10.5,  6.3, 19.3, 19.3, 13.4, 36.4, 17.8, 13.5, 16.5,  8.3,\n",
              "       14.3, 16. , 13.4, 28.6, 43.5, 20.2, 22. , 23. , 20.7, 12.5, 48.5,\n",
              "       14.6, 13.4, 23.7, 50. , 21.7, 39.8, 38.7, 22.2, 34.9, 22.5, 31.1,\n",
              "       28.7, 46. , 41.7, 21. , 26.6, 15. , 24.4, 13.3, 21.2, 11.7, 21.7,\n",
              "       19.4, 50. , 22.8, 19.7, 24.7, 36.2, 14.2, 18.9, 18.3, 20.6, 24.6,\n",
              "       18.2,  8.7, 44. , 10.4, 13.2, 21.2, 37. , 30.7, 22.9, 20. , 19.3,\n",
              "       31.7, 32. , 23.1, 18.8, 10.9, 50. , 19.6,  5. , 14.4, 19.8, 13.8,\n",
              "       19.6, 23.9, 24.5, 25. , 19.9, 17.2, 24.6, 13.5, 26.6, 21.4, 11.9,\n",
              "       22.6, 19.6,  8.5, 23.7, 23.1, 22.4, 20.5, 23.6, 18.4, 35.2, 23.1,\n",
              "       27.9, 20.6, 23.7, 28. , 13.6, 27.1, 23.6, 20.6, 18.2, 21.7, 17.1,\n",
              "        8.4, 25.3, 13.8, 22.2, 18.4, 20.7, 31.6, 30.5, 20.3,  8.8, 19.2,\n",
              "       19.4, 23.1, 23. , 14.8, 48.8, 22.6, 33.4, 21.1, 13.6, 32.2, 13.1,\n",
              "       23.4, 18.9, 23.9, 11.8, 23.3, 22.8, 19.6, 16.7, 13.4, 22.2, 20.4,\n",
              "       21.8, 26.4, 14.9, 24.1, 23.8, 12.3, 29.1, 21. , 19.5, 23.3, 23.8,\n",
              "       17.8, 11.5, 21.7, 19.9, 25. , 33.4, 28.5, 21.4, 24.3, 27.5, 33.1,\n",
              "       16.2, 23.3, 48.3, 22.9, 22.8, 13.1, 12.7, 22.6, 15. , 15.3, 10.5,\n",
              "       24. , 18.5, 21.7, 19.5, 33.2, 23.2,  5. , 19.1, 12.7, 22.3, 10.2,\n",
              "       13.9, 16.3, 17. , 20.1, 29.9, 17.2, 37.3, 45.4, 17.8, 23.2, 29. ,\n",
              "       22. , 18. , 17.4, 34.6, 20.1, 25. , 15.6, 24.8, 28.2, 21.2, 21.4,\n",
              "       23.8, 31. , 26.2, 17.4, 37.9, 17.5, 20. ,  8.3, 23.9,  8.4, 13.8,\n",
              "        7.2, 11.7, 17.1, 21.6, 50. , 16.1, 20.4, 20.6, 21.4, 20.6, 36.5,\n",
              "        8.5, 24.8, 10.8, 21.9, 17.3, 18.9, 36.2, 14.9, 18.2, 33.3, 21.8,\n",
              "       19.7, 31.6, 24.8, 19.4, 22.8,  7.5, 44.8, 16.8, 18.7, 50. , 50. ,\n",
              "       19.5, 20.1, 50. , 17.2, 20.8, 19.3, 41.3, 20.4, 20.5, 13.8, 16.5,\n",
              "       23.9, 20.6, 31.5, 23.3, 16.8, 14. , 33.8, 36.1, 12.8, 18.3, 18.7,\n",
              "       19.1, 29. , 30.1, 50. , 50. , 22. , 11.9, 37.6, 50. , 22.7, 20.8,\n",
              "       23.5, 27.9, 50. , 19.3, 23.9, 22.6, 15.2, 21.7, 19.2, 43.8, 20.3,\n",
              "       33.2, 19.9, 22.5, 32.7, 22. , 17.1, 19. , 15. , 16.1, 25.1, 23.7,\n",
              "       28.7, 37.2, 22.6, 16.4, 25. , 29.8, 22.1, 17.4, 18.1, 30.3, 17.5,\n",
              "       24.7, 12.6, 26.5, 28.7, 13.3, 10.4, 24.4, 23. , 20. , 17.8,  7. ,\n",
              "       11.8, 24.4, 13.8, 19.4, 25.2, 19.4, 19.4, 29.1])"
            ]
          },
          "metadata": {
            "tags": []
          },
          "execution_count": 26
        }
      ]
    },
    {
      "cell_type": "markdown",
      "metadata": {
        "id": "vC8Mn59umcHD",
        "colab_type": "text"
      },
      "source": [
        "**Preparing the data**\n",
        "\n",
        "When dealing with heterogenous data, a widespread best practice is to do feature-wise normalization: for each feature in the input data(a column in the input data matrix), you subtract the mean of the feature and divide by the standard deviation, so that the feature is centered around 0 and has a unit standard deviation."
      ]
    },
    {
      "cell_type": "code",
      "metadata": {
        "id": "B4V12IUEm2kx",
        "colab_type": "code",
        "colab": {}
      },
      "source": [
        "# normalize the data\n",
        "mean = train_data.mean(axis=0)\n",
        "train_data -= mean\n",
        "std = train_data.std(axis=0)\n",
        "train_data /= std\n",
        "\n",
        "test_data -= mean\n",
        "test_data /= std"
      ],
      "execution_count": 0,
      "outputs": []
    },
    {
      "cell_type": "markdown",
      "metadata": {
        "id": "4C4EijUDnRuj",
        "colab_type": "text"
      },
      "source": [
        "**Building the Network**\n",
        "\n",
        "The network ends with a single unit and no activation (a linear layer). This is a typical setup for scalar regression. Applying an activation function would constrain the range the output can take. Here, because the layer is purely linear, the network is free to learn to predict values in any range unlike forcing it to predict a value between 0 and 1 as would be the case with the *sigmoid* activation function.\n",
        "\n",
        "The model is compiled with the *mse (mean squared error)* loss function, and the *mae (mean absolute error)* is the new metric that measures the absolute value of the difference between the predictions and the targets. For instance, an MAE of 0.5 on this problem would mean the predictions are off by $500 on average."
      ]
    },
    {
      "cell_type": "code",
      "metadata": {
        "id": "wkqpyq3anbw_",
        "colab_type": "code",
        "colab": {}
      },
      "source": [
        "from keras import models\n",
        "from keras import layers\n",
        "\n",
        "def build_model():\n",
        "  model = models.Sequential()\n",
        "  model.add(layers.Dense(64, activation='relu', input_shape=(train_data.shape[1],)))\n",
        "  model.add(layers.Dense(64, activation='relu'))\n",
        "  model.add(layers.Dense(1))\n",
        "  model.compile(optimizer='rmsprop', loss='mse', metrics=['mae'])\n",
        "  return model"
      ],
      "execution_count": 0,
      "outputs": []
    },
    {
      "cell_type": "markdown",
      "metadata": {
        "id": "QQVr_-ZupFs1",
        "colab_type": "text"
      },
      "source": [
        "With this model, if the data is split into training and validation sets, as with the previous examples, the validation set would end up too small, resulting in the validation scores having a high *variance*, making it hard to evaluate.\n",
        "\n",
        "**K-fold validation**\n",
        "\n",
        "Instead, best practice is to use *K-fold* cross-validation, which splits the available data into *K* partitions (typically, *K*=4 or 5), instantiating *K* identical models, and training eachy one on *K* - 1 partitions while evaluating on the remaining partition. The validation score for the model used is then the average of the *K* validation scores obtained."
      ]
    },
    {
      "cell_type": "code",
      "metadata": {
        "id": "ZaFkrAKcqN8W",
        "colab_type": "code",
        "outputId": "a1772b8b-3a73-4af4-80b1-a74769c5d54f",
        "colab": {
          "base_uri": "https://localhost:8080/",
          "height": 85
        }
      },
      "source": [
        "import numpy as np\n",
        "\n",
        "k = 4\n",
        "num_val_samples = len(train_data) // k\n",
        "num_epochs = 100\n",
        "all_scores = []\n",
        "\n",
        "for i in range(k):\n",
        "  print('processing fold #', i)\n",
        "  # prepares the validation data: data from partition #k\n",
        "  val_data = train_data[i * num_val_samples: (i + 1) * num_val_samples]\n",
        "  val_targets = train_targets[i * num_val_samples: (i + 1) * num_val_samples]\n",
        "  \n",
        "  # prepares the training data: data from all other partitions\n",
        "  partial_train_data = np.concatenate(\n",
        "    [train_data[:i * num_val_samples],\n",
        "     train_data[(i + 1) * num_val_samples:]],\n",
        "    axis=0)\n",
        "  partial_train_targets = np.concatenate(\n",
        "    [train_targets[:i * num_val_samples],\n",
        "     train_targets[(i + 1) * num_val_samples:]],\n",
        "    axis=0)\n",
        "  \n",
        "  # builds the Keras model (already compiled)\n",
        "  model = build_model()\n",
        "  # trains the model (in silent mode, verbose=0)\n",
        "  model.fit(partial_train_data, partial_train_targets,\n",
        "            epochs=num_epochs, batch_size=1, verbose=0)\n",
        "  # evaluates the model on the validation data\n",
        "  val_mse, val_mae = model.evaluate(val_data, val_targets, verbose=0)\n",
        "  all_scores.append(val_mae)"
      ],
      "execution_count": 0,
      "outputs": [
        {
          "output_type": "stream",
          "text": [
            "processing fold # 0\n",
            "processing fold # 1\n",
            "processing fold # 2\n",
            "processing fold # 3\n"
          ],
          "name": "stdout"
        }
      ]
    },
    {
      "cell_type": "code",
      "metadata": {
        "id": "-B1CpGeSulHk",
        "colab_type": "code",
        "outputId": "1e120a51-0cdf-4ce0-cdfd-18c8d8d74796",
        "colab": {
          "base_uri": "https://localhost:8080/",
          "height": 34
        }
      },
      "source": [
        "all_scores"
      ],
      "execution_count": 0,
      "outputs": [
        {
          "output_type": "execute_result",
          "data": {
            "text/plain": [
              "[2.257923147465923, 2.2001309324019025, 2.8750618802438868, 2.410775157484678]"
            ]
          },
          "metadata": {
            "tags": []
          },
          "execution_count": 37
        }
      ]
    },
    {
      "cell_type": "code",
      "metadata": {
        "id": "LxlppqHOvz77",
        "colab_type": "code",
        "outputId": "80c66113-7331-4bf0-f3df-2639f976754b",
        "colab": {
          "base_uri": "https://localhost:8080/",
          "height": 34
        }
      },
      "source": [
        "np.mean(all_scores)"
      ],
      "execution_count": 0,
      "outputs": [
        {
          "output_type": "execute_result",
          "data": {
            "text/plain": [
              "2.4359727793990977"
            ]
          },
          "metadata": {
            "tags": []
          },
          "execution_count": 38
        }
      ]
    },
    {
      "cell_type": "markdown",
      "metadata": {
        "id": "lHElkUw1v9f7",
        "colab_type": "text"
      },
      "source": [
        "**Training the model longer**\n",
        "\n",
        "Try 500 epochs and keep a record of how well the model does at each epoch"
      ]
    },
    {
      "cell_type": "code",
      "metadata": {
        "id": "PmBZ6YfSwJme",
        "colab_type": "code",
        "outputId": "5f7ef992-2636-42f1-de44-8f98fe216e17",
        "colab": {
          "base_uri": "https://localhost:8080/",
          "height": 326
        }
      },
      "source": [
        "import numpy as np\n",
        "k = 4\n",
        "num_val_samples = len(train_data) // k\n",
        "all_scores = []\n",
        "\n",
        "num_epochs = 500\n",
        "all_mae_histories = []\n",
        "for i in range(k):\n",
        "  print('processing fold #', i)\n",
        "  # prepare validation data: data from partition #k\n",
        "  val_data = train_data[i * num_val_samples: (i + 1) * num_val_samples]\n",
        "  val_targets = train_targets[i * num_val_samples: (i + 1) * num_val_samples]\n",
        "  \n",
        "  # prepare training data: data from all other partitions\n",
        "  partial_train_data = np.concatenate(\n",
        "    [train_data[:i * num_val_samples],\n",
        "     train_data[(i + 1) * num_val_samples:]],\n",
        "    axis=0)\n",
        "  partial_train_targets = np.concatenate(\n",
        "    [train_targets[:i * num_val_samples],\n",
        "     train_targets[(i + 1) * num_val_samples:]],\n",
        "    axis=0)\n",
        "  \n",
        "  # build the Keras model (already compiled)\n",
        "  model = build_model()\n",
        "  history = model.fit(partial_train_data, partial_train_targets,\n",
        "                      validation_data=(val_data, val_targets),\n",
        "                      epochs=num_epochs, batch_size=1, verbose=0)\n",
        "  mae_history = history.history['val_mean_absolute_error']\n",
        "  all_mae_histories.append(mae_history)"
      ],
      "execution_count": 0,
      "outputs": [
        {
          "output_type": "stream",
          "text": [
            "WARNING: Logging before flag parsing goes to stderr.\n",
            "W0724 14:09:30.265810 140668296681344 deprecation_wrapper.py:119] From /usr/local/lib/python3.6/dist-packages/keras/backend/tensorflow_backend.py:74: The name tf.get_default_graph is deprecated. Please use tf.compat.v1.get_default_graph instead.\n",
            "\n",
            "W0724 14:09:30.314257 140668296681344 deprecation_wrapper.py:119] From /usr/local/lib/python3.6/dist-packages/keras/backend/tensorflow_backend.py:517: The name tf.placeholder is deprecated. Please use tf.compat.v1.placeholder instead.\n",
            "\n",
            "W0724 14:09:30.323283 140668296681344 deprecation_wrapper.py:119] From /usr/local/lib/python3.6/dist-packages/keras/backend/tensorflow_backend.py:4138: The name tf.random_uniform is deprecated. Please use tf.random.uniform instead.\n",
            "\n",
            "W0724 14:09:30.359928 140668296681344 deprecation_wrapper.py:119] From /usr/local/lib/python3.6/dist-packages/keras/optimizers.py:790: The name tf.train.Optimizer is deprecated. Please use tf.compat.v1.train.Optimizer instead.\n",
            "\n"
          ],
          "name": "stderr"
        },
        {
          "output_type": "stream",
          "text": [
            "processing fold # 0\n"
          ],
          "name": "stdout"
        },
        {
          "output_type": "stream",
          "text": [
            "W0724 14:09:30.518008 140668296681344 deprecation_wrapper.py:119] From /usr/local/lib/python3.6/dist-packages/keras/backend/tensorflow_backend.py:986: The name tf.assign_add is deprecated. Please use tf.compat.v1.assign_add instead.\n",
            "\n",
            "W0724 14:09:30.524621 140668296681344 deprecation_wrapper.py:119] From /usr/local/lib/python3.6/dist-packages/keras/backend/tensorflow_backend.py:973: The name tf.assign is deprecated. Please use tf.compat.v1.assign instead.\n",
            "\n"
          ],
          "name": "stderr"
        },
        {
          "output_type": "stream",
          "text": [
            "processing fold # 1\n",
            "processing fold # 2\n",
            "processing fold # 3\n"
          ],
          "name": "stdout"
        }
      ]
    },
    {
      "cell_type": "code",
      "metadata": {
        "id": "zli2SmrBTXDD",
        "colab_type": "code",
        "colab": {}
      },
      "source": [
        "# compute the average of the per-epoch MAE scores for all folds\n",
        "average_mae_history = [\n",
        "    np.mean([x[i] for x in all_mae_histories]) for i in range(num_epochs)\n",
        "]"
      ],
      "execution_count": 0,
      "outputs": []
    },
    {
      "cell_type": "markdown",
      "metadata": {
        "id": "VQy2WQjWZvOz",
        "colab_type": "text"
      },
      "source": [
        "*Plotting the validation scores*"
      ]
    },
    {
      "cell_type": "code",
      "metadata": {
        "id": "KbdEAxpUZ191",
        "colab_type": "code",
        "outputId": "a5ef5dc9-520d-4130-cf8f-c5159e30236d",
        "colab": {
          "base_uri": "https://localhost:8080/",
          "height": 283
        }
      },
      "source": [
        "import matplotlib.pyplot as plt\n",
        "\n",
        "plt.plot(range(1, len(average_mae_history) + 1), average_mae_history)\n",
        "plt.xlabel('Epochs')\n",
        "plt.ylabel('Validation MAE')\n",
        "plt.show()"
      ],
      "execution_count": 0,
      "outputs": [
        {
          "output_type": "display_data",
          "data": {
            "image/png": "[encoded data removed]",
            "text/plain": [
              "<Figure size 432x288 with 1 Axes>"
            ]
          },
          "metadata": {
            "tags": []
          }
        }
      ]
    },
    {
      "cell_type": "markdown",
      "metadata": {
        "id": "vRIFwhkBaJYO",
        "colab_type": "text"
      },
      "source": [
        "\n",
        "\n",
        "> This is difficult to read due to scaling issues and relatively high variance. To make it easier to see, let's do the following:\n",
        "\n",
        "\n",
        "1.   Omit the first 10 data points, which are on a different scale than the rest of the curve\n",
        "2.   Replace each point with an exponential moving average of the previous points to obtain a smooth curve\n",
        "\n",
        "\n",
        "\n",
        "\n",
        "\n"
      ]
    },
    {
      "cell_type": "code",
      "metadata": {
        "id": "w3HuK2cNagnq",
        "colab_type": "code",
        "outputId": "3185db5f-ec78-44b0-e9ee-1dc4c68584de",
        "colab": {
          "base_uri": "https://localhost:8080/",
          "height": 283
        }
      },
      "source": [
        "def smooth_curve(points, factor=0.9):\n",
        "  smoothed_points = []\n",
        "  for point in points:\n",
        "    if smoothed_points:\n",
        "      previous = smoothed_points[-1]\n",
        "      smoothed_points.append(previous * factor + point * (1 - factor))\n",
        "    else:\n",
        "      smoothed_points.append(point)\n",
        "  return smoothed_points\n",
        "\n",
        "smooth_mae_history = smooth_curve(average_mae_history[10:])\n",
        "\n",
        "plt.plot(range(1, len(smooth_mae_history) + 1), smooth_mae_history)\n",
        "plt.xlabel('Epochs')\n",
        "plt.ylabel('Validation MAE')\n",
        "plt.show()"
      ],
      "execution_count": 0,
      "outputs": [
        {
          "output_type": "display_data",
          "data": {
            "image/png": "[encoded data removed]",
            "text/plain": [
              "<Figure size 432x288 with 1 Axes>"
            ]
          },
          "metadata": {
            "tags": []
          }
        }
      ]
    },
    {
      "cell_type": "markdown",
      "metadata": {
        "id": "9VmBK8lebkDZ",
        "colab_type": "text"
      },
      "source": [
        "**Training the Final Model**"
      ]
    },
    {
      "cell_type": "code",
      "metadata": {
        "id": "H4VdvzSKbmap",
        "colab_type": "code",
        "outputId": "9b6e47a4-260f-46eb-c784-1aac61fffc9b",
        "colab": {
          "base_uri": "https://localhost:8080/",
          "height": 34
        }
      },
      "source": [
        "model = build_model()\n",
        "model.fit(train_data, train_targets,\n",
        "          epochs=80, batch_size=16, verbose=0)\n",
        "test_mse_score, test_mae_score = model.evaluate(test_data, test_targets)"
      ],
      "execution_count": 0,
      "outputs": [
        {
          "output_type": "stream",
          "text": [
            "102/102 [==============================] - 0s 749us/step\n"
          ],
          "name": "stdout"
        }
      ]
    },
    {
      "cell_type": "markdown",
      "metadata": {
        "id": "29jsZj8Yb91o",
        "colab_type": "text"
      },
      "source": [
        "Final result: still off by almost $3,000"
      ]
    },
    {
      "cell_type": "code",
      "metadata": {
        "id": "OGfuc4kxb6MR",
        "colab_type": "code",
        "outputId": "cd9cb9ad-6eb3-46f0-ee52-cfa19a32a883",
        "colab": {
          "base_uri": "https://localhost:8080/",
          "height": 34
        }
      },
      "source": [
        "test_mae_score"
      ],
      "execution_count": 0,
      "outputs": [
        {
          "output_type": "execute_result",
          "data": {
            "text/plain": [
              "2.9620735598545447"
            ]
          },
          "metadata": {
            "tags": []
          },
          "execution_count": 12
        }
      ]
    },
    {
      "cell_type": "markdown",
      "metadata": {
        "id": "5jr_tMFLxHse",
        "colab_type": "text"
      },
      "source": [
        "# Validation\n",
        "\n",
        "\n",
        "---\n",
        "\n",
        "**Simple Hold-out Validation**"
      ]
    },
    {
      "cell_type": "code",
      "metadata": {
        "id": "fn3l40QVxexr",
        "colab_type": "code",
        "colab": {}
      },
      "source": [
        "import numpy as np\n",
        "\n",
        "num_validation_samples = 1000\n",
        "\n",
        "# usually shuffle the data\n",
        "np.random.shuffle(data)\n",
        "\n",
        "# defines validation set\n",
        "validation_data = data[:num_validation_samples]\n",
        "data = data[num_validation_samples:]\n",
        "\n",
        "# defines training set\n",
        "training_data = data[:]\n",
        "\n",
        "# trains the model on the training data, and evaluates it on the validation data\n",
        "model = get_model()\n",
        "model.train(training_data)\n",
        "validation_score = model.evaluate(validation_data)\n",
        "\n",
        "# retrain, evaluate, tune...\n",
        "model = get_model()\n",
        "model.train(np.concatenate([training_data,\n",
        "                            validation_data]))\n",
        "test_score = model.evaluate(test_data)\n",
        "\n",
        "# once hyperparameters are tuned, train final model from scratch on all non-test data available"
      ],
      "execution_count": 0,
      "outputs": []
    },
    {
      "cell_type": "markdown",
      "metadata": {
        "id": "KPhC88XPy-0m",
        "colab_type": "text"
      },
      "source": [
        "**K-fold Validation**"
      ]
    },
    {
      "cell_type": "code",
      "metadata": {
        "id": "oYo_K_xOzFMb",
        "colab_type": "code",
        "colab": {}
      },
      "source": [
        "k = 4\n",
        "num_validation_samples = len(data) // k\n",
        "\n",
        "np.random.shuffle(data)\n",
        "\n",
        "validation_scores = []\n",
        "for fold in range(k):\n",
        "  # select the validation-data partition\n",
        "  validation_data = data[num_validation_samples * fold:\n",
        "                        num_validation_samples * (fold + 1)]\n",
        "  # use remainder of the data as training data\n",
        "  # the + operator is list concatenation, not summation\n",
        "  training_data = data[:num_validation_samples * fold] +\n",
        "                        data[num_validation_samples * (fold + 1):]\n",
        "  # create a brand new instance of the model\n",
        "  model = get_model()\n",
        "  model.train(training_data)\n",
        "  validation_score = model.evaluate(validation_data)\n",
        "  validation_scores.append(validation_score)\n",
        "\n",
        "# average validation scores of the k folds  \n",
        "validation_score = np.average(validation_scores)\n",
        "\n",
        "# train final model on all non-test data available\n",
        "model = get_model()\n",
        "model.train(data)\n",
        "test_score = model.evaluate(test_data)\n",
        "    "
      ],
      "execution_count": 0,
      "outputs": []
    },
    {
      "cell_type": "markdown",
      "metadata": {
        "id": "CrMZRaQs3ajS",
        "colab_type": "text"
      },
      "source": [
        "# Overfitting and Underfitting\n",
        "\n",
        "\n",
        "---\n",
        "\n",
        "The original movie-review classification network"
      ]
    },
    {
      "cell_type": "code",
      "metadata": {
        "id": "D_BlBnju3lPk",
        "colab_type": "code",
        "colab": {}
      },
      "source": [
        "from keras import models\n",
        "from keras import layers\n",
        "\n",
        "model = models.Sequential()\n",
        "model.add(layers.Dense(16, activation='relu', input_shape=(10000,)))\n",
        "model.add(layers.Dense(16, activation='relu'))\n",
        "model.add(layers.Dense(1, activation='sigmoid'))"
      ],
      "execution_count": 0,
      "outputs": []
    },
    {
      "cell_type": "markdown",
      "metadata": {
        "id": "G_yy5Dw_35qg",
        "colab_type": "text"
      },
      "source": [
        "Version of the model with lower capacity"
      ]
    },
    {
      "cell_type": "code",
      "metadata": {
        "id": "hfBUC3NF4A22",
        "colab_type": "code",
        "colab": {}
      },
      "source": [
        "model = models.Sequential()\n",
        "model.add(layers.Dense(4, activation='relu', input_shape=(10000,)))\n",
        "model.add(layers.Dense(4, activation='relu'))\n",
        "model.add(layers.Dense(1, activation='sigmoid'))"
      ],
      "execution_count": 0,
      "outputs": []
    },
    {
      "cell_type": "code",
      "metadata": {
        "colab_type": "code",
        "outputId": "bb694e84-c337-4f8a-9c9e-aa26954e22c3",
        "id": "rdQiQ1NI428Z",
        "colab": {
          "base_uri": "https://localhost:8080/",
          "height": 768
        }
      },
      "source": [
        "history = model.fit(partial_x_train,\n",
        "                   partial_y_train,\n",
        "                   epochs=20,\n",
        "                   batch_size=512,\n",
        "                   validation_data=(x_val, y_val))"
      ],
      "execution_count": 16,
      "outputs": [
        {
          "output_type": "stream",
          "text": [
            "W0807 16:23:20.147824 140248176170880 deprecation_wrapper.py:119] From /usr/local/lib/python3.6/dist-packages/keras/backend/tensorflow_backend.py:986: The name tf.assign_add is deprecated. Please use tf.compat.v1.assign_add instead.\n",
            "\n"
          ],
          "name": "stderr"
        },
        {
          "output_type": "stream",
          "text": [
            "Train on 15000 samples, validate on 10000 samples\n",
            "Epoch 1/20\n",
            "15000/15000 [==============================] - 5s 359us/step - loss: 0.6273 - acc: 0.6225 - val_loss: 0.5734 - val_acc: 0.6662\n",
            "Epoch 2/20\n",
            "15000/15000 [==============================] - 1s 99us/step - loss: 0.5259 - acc: 0.7823 - val_loss: 0.5206 - val_acc: 0.8229\n",
            "Epoch 3/20\n",
            "15000/15000 [==============================] - 1s 92us/step - loss: 0.4756 - acc: 0.8533 - val_loss: 0.4973 - val_acc: 0.8062\n",
            "Epoch 4/20\n",
            "15000/15000 [==============================] - 1s 91us/step - loss: 0.4418 - acc: 0.8878 - val_loss: 0.4785 - val_acc: 0.8397\n",
            "Epoch 5/20\n",
            "15000/15000 [==============================] - 1s 91us/step - loss: 0.4160 - acc: 0.9101 - val_loss: 0.4796 - val_acc: 0.8253\n",
            "Epoch 6/20\n",
            "15000/15000 [==============================] - 1s 92us/step - loss: 0.3936 - acc: 0.9264 - val_loss: 0.4626 - val_acc: 0.8548\n",
            "Epoch 7/20\n",
            "15000/15000 [==============================] - 1s 90us/step - loss: 0.3750 - acc: 0.9402 - val_loss: 0.4671 - val_acc: 0.8495\n",
            "Epoch 8/20\n",
            "15000/15000 [==============================] - 1s 91us/step - loss: 0.3583 - acc: 0.9487 - val_loss: 0.4559 - val_acc: 0.8648\n",
            "Epoch 9/20\n",
            "15000/15000 [==============================] - 1s 90us/step - loss: 0.3425 - acc: 0.9577 - val_loss: 0.4455 - val_acc: 0.8748\n",
            "Epoch 10/20\n",
            "15000/15000 [==============================] - 1s 91us/step - loss: 0.3291 - acc: 0.9650 - val_loss: 0.4493 - val_acc: 0.8719\n",
            "Epoch 11/20\n",
            "15000/15000 [==============================] - 1s 91us/step - loss: 0.3163 - acc: 0.9707 - val_loss: 0.4887 - val_acc: 0.8485\n",
            "Epoch 12/20\n",
            "15000/15000 [==============================] - 1s 91us/step - loss: 0.3048 - acc: 0.9738 - val_loss: 0.4836 - val_acc: 0.8573\n",
            "Epoch 13/20\n",
            "15000/15000 [==============================] - 1s 90us/step - loss: 0.2941 - acc: 0.9785 - val_loss: 0.4941 - val_acc: 0.8553\n",
            "Epoch 14/20\n",
            "15000/15000 [==============================] - 1s 91us/step - loss: 0.2837 - acc: 0.9815 - val_loss: 0.5013 - val_acc: 0.8538\n",
            "Epoch 15/20\n",
            "15000/15000 [==============================] - 1s 90us/step - loss: 0.2741 - acc: 0.9843 - val_loss: 0.5043 - val_acc: 0.8569\n",
            "Epoch 16/20\n",
            "15000/15000 [==============================] - 1s 90us/step - loss: 0.2654 - acc: 0.9861 - val_loss: 0.4804 - val_acc: 0.8650\n",
            "Epoch 17/20\n",
            "15000/15000 [==============================] - 1s 91us/step - loss: 0.2571 - acc: 0.9878 - val_loss: 0.5091 - val_acc: 0.8598\n",
            "Epoch 18/20\n",
            "15000/15000 [==============================] - 1s 90us/step - loss: 0.2500 - acc: 0.9888 - val_loss: 0.5872 - val_acc: 0.8439\n",
            "Epoch 19/20\n",
            "15000/15000 [==============================] - 1s 90us/step - loss: 0.2421 - acc: 0.9892 - val_loss: 0.5490 - val_acc: 0.8542\n",
            "Epoch 20/20\n",
            "15000/15000 [==============================] - 1s 90us/step - loss: 0.2355 - acc: 0.9914 - val_loss: 0.5654 - val_acc: 0.8544\n"
          ],
          "name": "stdout"
        }
      ]
    },
    {
      "cell_type": "code",
      "metadata": {
        "id": "bxhDTOZl5aV9",
        "colab_type": "code",
        "colab": {
          "base_uri": "https://localhost:8080/",
          "height": 295
        },
        "outputId": "65de4c13-ca7a-48ee-eb45-170a5a97599b"
      },
      "source": [
        "import matplotlib.pyplot as plt\n",
        "\n",
        "loss_values = history_dict['loss']\n",
        "val_loss_values = history_dict['val_loss']\n",
        "\n",
        "epochs = range(1, len(loss_values) + 1)\n",
        "\n",
        "# 'bo' is for 'blue dot', 'b' is for 'solid blue line'\n",
        "plt.plot(epochs, loss_values, 'bo', label='Training loss')\n",
        "plt.plot(epochs, val_loss_values, 'b', label='Validation loss')\n",
        "plt.title('Training and Validation loss')\n",
        "plt.xlabel('Epochs')\n",
        "plt.ylabel('Loss')\n",
        "plt.legend()\n",
        "\n",
        "plt.show()"
      ],
      "execution_count": 18,
      "outputs": [
        {
          "output_type": "display_data",
          "data": {
            "image/png": "[encoded data removed]",
            "text/plain": [
              "<Figure size 432x288 with 1 Axes>"
            ]
          },
          "metadata": {
            "tags": []
          }
        }
      ]
    },
    {
      "cell_type": "markdown",
      "metadata": {
        "id": "S_wYCa426Fnn",
        "colab_type": "text"
      },
      "source": [
        "**Weight regularization (*L2 regularization*)**"
      ]
    },
    {
      "cell_type": "code",
      "metadata": {
        "id": "hrPSZC0v6Tbs",
        "colab_type": "code",
        "colab": {}
      },
      "source": [
        "from keras import regularizers\n",
        "\n",
        "model = models.Sequential()\n",
        "model.add(layers.Dense(16, kernel_regularizer=regularizers.l2(0.001),\n",
        "                      activation='relu', input_shape=(10000,)))\n",
        "model.add(layers.Dense(16, kernel_regularizer=regularizers.l2(0.001),\n",
        "                      activation='relu'))\n",
        "model.add(layers.Dense(1, activation='sigmoid'))"
      ],
      "execution_count": 0,
      "outputs": []
    },
    {
      "cell_type": "markdown",
      "metadata": {
        "id": "Hv0bn-Bt66MD",
        "colab_type": "text"
      },
      "source": [
        "`l2(0.001)` means every coefficient in the weight matrix of the layer will add `0.001 * weight_coefficient_value` to the total loss of the network. Because this penalty is *only added at training time*, the loss for this network will be much higher at training than at test time.\n",
        "\n",
        "---\n",
        "\n",
        "Alternatively, Keras has its own weight regularizers"
      ]
    },
    {
      "cell_type": "code",
      "metadata": {
        "id": "kynq13K97b5W",
        "colab_type": "code",
        "colab": {}
      },
      "source": [
        "# L1 regularization\n",
        "regularizers.l1(0.001)\n",
        "\n",
        "# simultaneous L1 and L2 regularization\n",
        "regularizers.l1_12(l1=0.001, l2=0.001)"
      ],
      "execution_count": 0,
      "outputs": []
    }
  ]
}